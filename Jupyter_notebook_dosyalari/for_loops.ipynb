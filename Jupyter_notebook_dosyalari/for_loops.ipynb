{
 "cells": [
  {
   "cell_type": "markdown",
   "metadata": {},
   "source": [
    "# [`for` loops/for donguleri](https://docs.python.org/3/tutorial/controlflow.html#for-statements)\n",
    "\n",
    "for döngüsü, döngü yapısı içerisinde yer alan ifadeleri önceden istenen kadar sayıda (defa) çalıştırır."
   ]
  },
  {
   "cell_type": "markdown",
   "metadata": {},
   "source": [
    "## Listelerde donguler"
   ]
  },
  {
   "cell_type": "markdown",
   "metadata": {},
   "source": [
    "Örnek: Amacımız verilen bir listenin cm olarak ifade edilen tüm elemanlarını inch'e çevirip ekrana yazdırmak olsun.\n",
    "\n",
    "Ön bilgi: 1 inch = 2.54 cms\n",
    "\n",
    "Algoritma:\n",
    "uzunluk_cm=[158, 165, 168, 172, 183, 190]\n",
    "\n",
    "Her bir uzunluk_cm[index] elemanı için\n",
    "          inc = uzunluk_cm[index]/2.54\n",
    "\n",
    "          cm ve inch degerlerini ekrana yazdır\n",
    "          Bir sonraki elemana geç\n",
    "\n",
    "Döngü içerisinde çalışması istenen tüm ifadeler içeri doğru aynı miktarda bloklanmalıdır. Bir zorunluluk olmamakla birlikte, standart olarak \\\"<TAB\\\"> ya da 4 boşluk kulllanılmaktır."
   ]
  },
  {
   "cell_type": "code",
   "execution_count": null,
   "metadata": {},
   "outputs": [],
   "source": [
    "print(\"------------------\") # tablo basligi)\n",
    "uzunluk_cm = [158, 165, 168, 172, 183, 190]\n",
    "for item in uzunluk_cm: # C'deki her bir eleman icin\n",
    "    # for dongusune giris\n",
    "    # for dongusunun icinde yapilacaklar\n",
    "    inc = item/2.54 # inch'e cevir\n",
    "    print(item, inc) # Ekrana yazdır\n",
    "    # for dongusunden cikis\n",
    "# for dongusunun disinda yapilacaklar\n",
    "print(\"------------------\") # Dongu sonrasi tablo sonu"
   ]
  },
  {
   "cell_type": "markdown",
   "metadata": {},
   "source": [
    "### `break`\n",
    "break ifadesiyle verilen kosul saglandiginda döngüyü durdurabiliriz. "
   ]
  },
  {
   "cell_type": "code",
   "execution_count": null,
   "metadata": {},
   "outputs": [],
   "source": [
    "for item in uzunluk_cm:\n",
    "    if item == 158:\n",
    "        break\n",
    "    print(item)"
   ]
  },
  {
   "cell_type": "markdown",
   "metadata": {},
   "source": [
    "### `continue`\n",
    "continue ifadesiyle, döngüdeki mevcut yinelemeyi durdurabilir ve bir sonraki ile devam edebiliriz:"
   ]
  },
  {
   "cell_type": "code",
   "execution_count": null,
   "metadata": {},
   "outputs": [],
   "source": [
    "for item in uzunluk_cm:\n",
    "    if item == 160:\n",
    "        continue\n",
    "    print(item)"
   ]
  },
  {
   "cell_type": "markdown",
   "metadata": {},
   "source": [
    "### `enumerate()` yani numaralandırmak\n",
    "\n",
    "Bir döngü içerisinde rastlanan bir liste elemanının hem değerini hem de indeksini kullanmanın oldukça basit bir yolu var: enumerate() fonksiyonu size bu olanağı sağlar. \n",
    "\n",
    "enumerate() fonksiyonu bir dizi nesnesinin (range, list, tuple, array, ...) hem indeks, hem de eleman üzerinden taranabilmesi ve istendiği anda nesnenin herhangi bir elemanının değeri ile birlikte dizide bulunduğu yeri (indeks) edinilebilmesi imkanini bize sağlar."
   ]
  },
  {
   "cell_type": "code",
   "execution_count": null,
   "metadata": {},
   "outputs": [],
   "source": [
    "for idx, val in enumerate(uzunluk_cm):\n",
    "    print('idx: {}, value: {}'.format(idx, val))"
   ]
  },
  {
   "cell_type": "code",
   "execution_count": null,
   "metadata": {},
   "outputs": [],
   "source": [
    "sessiz_harfler = \"bcçdfgğhjklmnprsştvyz\"\n",
    "sessiz_harfler = list(sessiz_harfler)\n",
    "print(sessiz_harfler)\n",
    "\n",
    "count = 0\n",
    "for item in sessiz_harfler:\n",
    "    print(count, item)\n",
    "    count +=1\n",
    "#count+=1 loop disinda olursa ne olur?"
   ]
  },
  {
   "cell_type": "code",
   "execution_count": null,
   "metadata": {},
   "outputs": [],
   "source": [
    "#Yukardaki for dongusunu enumerate() fonksiyonu ile daha kisa bir sekilde ifade edebiliriz.\n",
    "\n",
    "for count, item in enumerate(sessiz_harfler):\n",
    "    print(count, item)\n"
   ]
  },
  {
   "cell_type": "markdown",
   "metadata": {},
   "source": [
    "\n",
    "## Sozluk icin donguler"
   ]
  },
  {
   "cell_type": "code",
   "execution_count": null,
   "metadata": {},
   "outputs": [],
   "source": [
    "tarif_sozlugu = {}\n",
    "tarif_sozlugu['kuru fasulye'] = ['fasulye', 'salca', 'sogan', 'zeytinyagi']\n",
    "tarif_sozlugu['pilav'] = ['pirinc', 'su']  \n",
    "for key, val in tarif_sozlugu.items():\n",
    "    print(key, val)"
   ]
  },
  {
   "cell_type": "markdown",
   "metadata": {},
   "source": [
    "# Odev W2_2.1\n",
    "\n",
    "Yukardaki for dongusunde sadece key ve sadece value degerlerini print edelim. "
   ]
  },
  {
   "cell_type": "code",
   "execution_count": null,
   "metadata": {},
   "outputs": [],
   "source": [
    "for key, val in tarif_sozlugu.items():\n",
    "    print('{}={}'.format(key, val))"
   ]
  },
  {
   "cell_type": "markdown",
   "metadata": {},
   "source": [
    "## `range()`\n",
    "\n",
    "Belirli bir sayıda kodla döngü yapmak için range() fonksiyonunu kullanabiliriz, range() fonksiyonu 0’dan başlayan ve 1’er artan (varsayılan olarak) ve belirtilen sayıda biten bir sayı dizisi döndürür."
   ]
  },
  {
   "cell_type": "code",
   "execution_count": null,
   "metadata": {},
   "outputs": [],
   "source": [
    "for number in range(5):\n",
    "    print(number) #range(5)'in 0-5 degil, 0-4 degerleri oldugunu unutmayin."
   ]
  },
  {
   "cell_type": "code",
   "execution_count": null,
   "metadata": {},
   "outputs": [],
   "source": [
    "for number in range(2, 5):\n",
    "    print(number) \n",
    "\n",
    "#range() fonksiyonu varsayılan başlangıç değeri olarak olarak 0’dır,\n",
    "#ancak başlangıç değerini bir parametre ekleyerek belirtmek mümkündür:\n",
    "#range(2, 5), yani 2’den 5’e kadar olan değerler anlamına gelir (ancak 5’i içermez):"
   ]
  },
  {
   "cell_type": "code",
   "execution_count": null,
   "metadata": {},
   "outputs": [],
   "source": [
    "for number in range(0, 10, 2):  # son rakam adim sayisini veriyor\n",
    "    print(number)"
   ]
  },
  {
   "cell_type": "code",
   "execution_count": null,
   "metadata": {},
   "outputs": [],
   "source": [
    "#Biraz pratik yapalim\n",
    "\n",
    "sayilar = [1,3,5,7,9,12,19,21]\n",
    "\n",
    "#Sayilar listesindeki hangi sayılar 3' ün katıdır? For dongusu ile ifade edelim\n",
    "\n",
    "for item in sayilar:\n",
    "    if item%3 ==0:\n",
    "        print(item)"
   ]
  },
  {
   "cell_type": "code",
   "execution_count": null,
   "metadata": {},
   "outputs": [],
   "source": [
    "#Sayilar listesinde sayıların toplamı kaçtır ?\n",
    "\n",
    "total  = 0\n",
    "for item in sayilar:\n",
    "    total += item\n",
    "print('total:', total)\n"
   ]
  },
  {
   "cell_type": "markdown",
   "metadata": {},
   "source": [
    "# Odev W2_2.2 \n",
    "Asagidaki orneklerde for dongulerini olusturalim."
   ]
  },
  {
   "cell_type": "code",
   "execution_count": null,
   "metadata": {},
   "outputs": [],
   "source": [
    "#Sayilar listesindeki tek sayıların karesini alınız.\n",
    "\n",
    "sayilar = [1,3,5,7,9,12,19,21]\n",
    "\n",
    "# Algoritmada adimlar:\n",
    "#for dongusu baslatilir\n",
    "\n",
    "#sayilarin tek sayi oldugu kosul durumunda\n",
    "\n",
    "#tek sayilarin karesi hesaplanir ve print edilir"
   ]
  },
  {
   "cell_type": "markdown",
   "metadata": {},
   "source": [
    "Rakamlardan (type = int) olusan bu yeni listedeki elemanlardan asagidaki kurallara gore for dongusu olusturarak istenilen string degerlerini print edelim. \n",
    "\n",
    "yeni_sayilar = [4, 7, 21, 24, 33, 56, 81, 90, 101, 102, 300]\n",
    "\n",
    "Kurallar\n",
    "\n",
    "* Eger rakam 3'un kati ve tek sayi ise, string sunu desin: `'uc tek sayi`'\n",
    "* Eger rakam 3'un kati ve cift sayi ise, string sunu desin: `'uc cift sayi`'\n",
    "* Eger rakam tek sayi ise, string sunu desin: `'tek sayi`'\n",
    "* Eger rakam cift sayi ise, string sunu desin: `'cift sayi`'\n"
   ]
  },
  {
   "cell_type": "code",
   "execution_count": null,
   "metadata": {},
   "outputs": [],
   "source": [
    "yeni_sayilar = [4, 7, 21, 24, 33, 56, 81, 90, 101, 102, 300]\n",
    "\n",
    "# Sizin cozumunuz\n",
    "for item in yeni_sayilar:\n",
    "    if item%3== 0 and item%2 != 0:\n",
    "        print('uc tek sayi')\n",
    "    elif item%3== 0 and item%2 == 0:\n",
    "        print('uc cift sayi')\n",
    "    elif item%2 != 0:\n",
    "        print('tek sayi')\n",
    "    else:\n",
    "        print('cift sayi')\n",
    "    "
   ]
  },
  {
   "cell_type": "code",
   "execution_count": null,
   "metadata": {},
   "outputs": [],
   "source": []
  }
 ],
 "metadata": {
  "kernelspec": {
   "display_name": "Python 3",
   "language": "python",
   "name": "python3"
  },
  "language_info": {
   "codemirror_mode": {
    "name": "ipython",
    "version": 3
   },
   "file_extension": ".py",
   "mimetype": "text/x-python",
   "name": "python",
   "nbconvert_exporter": "python",
   "pygments_lexer": "ipython3",
   "version": "3.8.5"
  }
 },
 "nbformat": 4,
 "nbformat_minor": 2
}
