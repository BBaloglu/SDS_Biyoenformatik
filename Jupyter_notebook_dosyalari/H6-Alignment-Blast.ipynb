{
 "cells": [
  {
   "cell_type": "markdown",
   "id": "linear-mention",
   "metadata": {},
   "source": [
    "## Bugun menude ne var?\n",
    "Bugunku ve son konumuz sekans siralamasi (sequence alignment)"
   ]
  },
  {
   "cell_type": "code",
   "execution_count": null,
   "id": "manufactured-merchant",
   "metadata": {},
   "outputs": [],
   "source": [
    "import parasail"
   ]
  },
  {
   "cell_type": "code",
   "execution_count": null,
   "id": "second-toner",
   "metadata": {},
   "outputs": [],
   "source": [
    "result = parasail.nw_trace('fffbilgenur', 'bestenur', 1, 1, parasail.blosum62)\n",
    "print(result.get_traceback().query)\n",
    "print(result.get_traceback().comp)\n",
    "print(result.get_traceback().ref)"
   ]
  },
  {
   "cell_type": "code",
   "execution_count": null,
   "id": "visible-compilation",
   "metadata": {},
   "outputs": [],
   "source": [
    "#global alignment\n",
    "result = parasail.nw_table('fffbilgenur', 'bestenur', 1, 1, parasail.blosum62)\n",
    "result.score_table"
   ]
  },
  {
   "cell_type": "code",
   "execution_count": null,
   "id": "alien-syndrome",
   "metadata": {},
   "outputs": [],
   "source": [
    "#local alignment\n",
    "result2 = parasail.sw_trace('fffbilgenur', 'bestenur', 1, 1, parasail.blosum62)\n",
    "print(result2.get_traceback().query)\n",
    "print(result2.get_traceback().comp)\n",
    "print(result2.get_traceback().ref)"
   ]
  },
  {
   "cell_type": "code",
   "execution_count": null,
   "id": "sought-flesh",
   "metadata": {},
   "outputs": [],
   "source": [
    "#local alignment\n",
    "result2 = parasail.sw_table('fffbilgenur', 'bestenur', 1, 1, parasail.blosum62)\n",
    "result2.score_table"
   ]
  },
  {
   "cell_type": "markdown",
   "id": "lesbian-meeting",
   "metadata": {},
   "source": [
    "Bio.AlignIO.read() ve Bio.AlignIO.parse() fonksiyonlarina, alignment dosyalarina ayrintili bakmak icin ihtiyacimiz var. \n",
    "\n",
    "Eger sadece bir alignment dosyasina bakiyorsak Bio.AlignIO.read() fonksiyonu yetecektir. Birden fazla alignment dosyalarina bakiyorsak Bio.AlignIO.parse() isimizi gorecek. \n",
    "\n",
    "Ornek olarak burayi takip edebilirsiniz: https://github.com/tiagoantao/biopython-notebook/blob/master/notebooks/06%20-%20Multiple%20Sequence%20Alignment%20objects.ipynb"
   ]
  },
  {
   "cell_type": "code",
   "execution_count": null,
   "id": "concerned-asthma",
   "metadata": {},
   "outputs": [],
   "source": []
  }
 ],
 "metadata": {
  "kernelspec": {
   "display_name": "Python 3",
   "language": "python",
   "name": "python3"
  },
  "language_info": {
   "codemirror_mode": {
    "name": "ipython",
    "version": 3
   },
   "file_extension": ".py",
   "mimetype": "text/x-python",
   "name": "python",
   "nbconvert_exporter": "python",
   "pygments_lexer": "ipython3",
   "version": "3.8.10"
  }
 },
 "nbformat": 4,
 "nbformat_minor": 5
}
