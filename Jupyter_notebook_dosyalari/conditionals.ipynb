{
 "cells": [
  {
   "cell_type": "markdown",
   "metadata": {},
   "source": [
    "# Conditionals yani kosullu durumlar"
   ]
  },
  {
   "cell_type": "markdown",
   "metadata": {},
   "source": [
    "## Dogrulugu kontrol edelim "
   ]
  },
  {
   "cell_type": "markdown",
   "metadata": {},
   "source": [
    "### `bool` (bool fonksiyonu girilen bir değeri standart doğrulama testlerini kullanarak true ya da false değerine çevirir)"
   ]
  },
  {
   "cell_type": "code",
   "execution_count": null,
   "metadata": {},
   "outputs": [],
   "source": [
    "print('type of True and False: {}'.format(type(True)))"
   ]
  },
  {
   "cell_type": "code",
   "execution_count": null,
   "metadata": {},
   "outputs": [],
   "source": [
    "#Boş liste, tuple ya da string => bool fonksiyonu False döner\n",
    "#Sıfır ya da farklı türden sıfırlar örneğin 0.0 ya da 0.0j complex sayısı[*] => bool fonksiyonu False döner\n",
    "#Boş dictionary => bool fonksiyonu False döner\n",
    "\n",
    "print('0: {}, 1: {}'.format(bool(0), bool(1)))\n",
    "print('empty list: {}, list with values: {}'.format(bool([]), bool(['dolu', 'bos'])))\n",
    "print('empty dict: {}, dict with values: {}'.format(bool({}), bool({'Python': 'is cool'})))"
   ]
  },
  {
   "cell_type": "markdown",
   "metadata": {},
   "source": [
    "### `==, !=, >, <, >=, <=`\n"
   ]
  },
  {
   "cell_type": "code",
   "execution_count": null,
   "metadata": {},
   "outputs": [],
   "source": [
    "print('1 == 0: {}'.format(1 == 0)) #esittir\n",
    "print('1 != 0: {}'.format(1 != 0)) #esit degildir\n",
    "print('1 > 0: {}'.format(1 > 0))\n",
    "print('1 > 1: {}'.format(1 > 1))\n",
    "print('1 < 0: {}'.format(1 < 0))\n",
    "print('1 < 1: {}'.format(1 < 1))\n",
    "print('1 >= 0: {}'.format(1 >= 0))\n",
    "print('1 >= 1: {}'.format(1 >= 1))\n",
    "print('1 <= 0: {}'.format(1 <= 0))\n",
    "print('1 <= 1: {}'.format(1 <= 1))"
   ]
  },
  {
   "cell_type": "markdown",
   "metadata": {},
   "source": [
    "Bu islemleri birlestirip sorgulayabiliriz"
   ]
  },
  {
   "cell_type": "code",
   "execution_count": null,
   "metadata": {},
   "outputs": [],
   "source": [
    "print('1 <= 2 <= 3: {}'.format(1 <= 2 <= 3))"
   ]
  },
  {
   "cell_type": "markdown",
   "metadata": {},
   "source": [
    "### `and, or, not`"
   ]
  },
  {
   "cell_type": "code",
   "execution_count": null,
   "metadata": {},
   "outputs": [],
   "source": [
    "x = 5\n",
    "print(x > 3 and x < 10)\n",
    "print(x < 5 or x < 4) #islemlerden sadece biri dogruysa, True dondurur\n",
    "print(not(x > 3 and x < 10)) # sonucu tersine cevirir, eger dogruysa False dondurur"
   ]
  },
  {
   "cell_type": "markdown",
   "metadata": {},
   "source": [
    "## `if`\n",
    "\n",
    "if yapısı, koşulun sonucunun true olduğu tüm durumlarda içerisindeki ifadeleri geçerli kılar."
   ]
  },
  {
   "cell_type": "code",
   "execution_count": null,
   "metadata": {},
   "outputs": [],
   "source": [
    "statement = True\n",
    "if statement:\n",
    "    print('statement is True')\n",
    "    \n",
    "if not statement:\n",
    "    print('statement is not True')"
   ]
  },
  {
   "cell_type": "code",
   "execution_count": null,
   "metadata": {},
   "outputs": [],
   "source": [
    "val = 3\n",
    "if 0 <= val < 1 or val == 3:\n",
    "    print('Value is positive and less than one or value is three')"
   ]
  },
  {
   "cell_type": "markdown",
   "metadata": {},
   "source": [
    "## `if-else`\n",
    "Else yapısı ise if yapısının false olduğu durumda ikinci nihai durum olarak çalışır."
   ]
  },
  {
   "cell_type": "code",
   "execution_count": null,
   "metadata": {},
   "outputs": [],
   "source": [
    "kosul1=False\n",
    "\n",
    "if kosul1:\n",
    "    print(\"Koşul1 False olduğu için burası çalışmaz \") #burası çalışmayacaktır.\n",
    "else:\n",
    "    print(\"Koşul1 false olduğu için else kısmı  çalışır .\")"
   ]
  },
  {
   "cell_type": "markdown",
   "metadata": {},
   "source": [
    "## `if-elif-else`\n",
    "\n",
    "elif yapısını birden çok farklı koşullardan doğacak durumların kontrolünü sağlamak için kullanırız."
   ]
  },
  {
   "cell_type": "code",
   "execution_count": null,
   "metadata": {},
   "outputs": [],
   "source": [
    "sayi=26\n",
    "\n",
    "if sayi<0 :\n",
    "    print(\"sayi 0'dan küçüktür.\")\n",
    "elif sayi>20:\n",
    "    print(\"Sayi 20'den büyüktür.\")\n",
    "elif sayi==20:\n",
    "    print(\"Sayi 20'ye eşittir.\")"
   ]
  },
  {
   "cell_type": "markdown",
   "metadata": {},
   "source": [
    "Istediginiz kadar `elif` yapisi kullanabilirsiniz. Bunun yanisira, dongunun sonunda `else` yapisini kullanmak zorunlu degildir."
   ]
  },
  {
   "cell_type": "code",
   "execution_count": null,
   "metadata": {},
   "outputs": [],
   "source": [
    "vizeNotu=float(input(\"Vize notu gir : \"))\n",
    "finalNotu=float(input(\"Final notu gir :\"))\n",
    " \n",
    "#Vize notunun %40 ve Final puanının %60 ını hesaplayalım.\n",
    " \n",
    "ortalamaNot=(0.4*vizeNotu)+(0.6*finalNotu)\n",
    " \n",
    "print(\"Not ortalamanız : \",ortalamaNot)\n",
    " \n",
    "#Koşul kısmına bir de final notunun 50'den büyük olmasını şart koşalım .\n",
    " \n",
    "if finalNotu>=50:\n",
    "    if(ortalamaNot>=85 and finalNotu>=50):\n",
    "        print(\"Harf Notunuz AA\")\n",
    "    elif ortalamaNot>=75 and ortalamaNot<85 :\n",
    "        print(\"Harf Notunuz BA\")\n",
    "    elif ortalamaNot >= 70 and ortalamaNot < 75:\n",
    "        print(\"Harf Notunuz BB\")\n",
    "    elif ortalamaNot >= 65 and ortalamaNot < 70:\n",
    "        print(\"Harf Notunuz CB\")\n",
    "    elif ortalamaNot >= 60 and ortalamaNot < 65:\n",
    "        print(\"Harf Notunuz CC\")\n",
    "    elif ortalamaNot >= 55 and ortalamaNot < 60:\n",
    "        print(\"Harf Notunuz DC\")\n",
    "    elif ortalamaNot >= 50 and ortalamaNot < 55:\n",
    "        print(\"Harf Notunuz DD\")\n",
    " \n",
    "else:\n",
    "    print(\"Harf notunuz FF kaldınız .\")"
   ]
  },
  {
   "cell_type": "markdown",
   "metadata": {},
   "source": [
    "Kosullu durumlarla ilgili daha fazla bilgi almak icin, bkz. [tutorial from Real Python](https://realpython.com/python-conditional-statements/)."
   ]
  }
 ],
 "metadata": {
  "kernelspec": {
   "display_name": "Python 3",
   "language": "python",
   "name": "python3"
  },
  "language_info": {
   "codemirror_mode": {
    "name": "ipython",
    "version": 3
   },
   "file_extension": ".py",
   "mimetype": "text/x-python",
   "name": "python",
   "nbconvert_exporter": "python",
   "pygments_lexer": "ipython3",
   "version": "3.8.5"
  }
 },
 "nbformat": 4,
 "nbformat_minor": 1
}
