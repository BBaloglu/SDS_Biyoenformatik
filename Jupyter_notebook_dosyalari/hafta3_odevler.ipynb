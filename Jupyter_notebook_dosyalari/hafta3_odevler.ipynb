{
 "cells": [
  {
   "cell_type": "markdown",
   "id": "potential-california",
   "metadata": {},
   "source": [
    "# Odev 3.1: dinukleotitleri bulalim\n",
    "count_dinucleotides adli bir fonksiyon yazin, bu fonksiyon dna ve pair adli iki arguman alsin, bkz. count_dinucleotides(dna,pair)\n",
    "\n",
    "Bize cikti olarak bu pair'in karakterlerinin DNA dizisinde kac kere bulundugunu versin. \n",
    "\n",
    "Ornegin DNA dizisi olarak 'ACTGCTATCCATT' ve pair olarak 'AT' bunu verdigimizde bize 2 sonucunu versin. "
   ]
  },
  {
   "cell_type": "markdown",
   "id": "younger-bronze",
   "metadata": {},
   "source": [
    "# Odev 3.2: substringleri bulalim\n",
    "\n",
    "verilen bir string icinde diger verilen string ifadesi kac kere var, bunu bize cikti veren bir fonksiyon yazin. \n",
    "\n",
    "Ornegin DNA dizimiz 'ACGTTACGGAACG' icinde kac kere 'TAC' geciyor?\n",
    "\n",
    "Ipucu: listelerdeki slicing islemine bakabilirsiniz"
   ]
  },
  {
   "cell_type": "markdown",
   "id": "pointed-introduction",
   "metadata": {},
   "source": [
    "# Odev 3.3: Fonksiyonu daha guclu hale getirelim\n",
    "\n",
    "Asagidaki fonksiyon bu haliyle calisiyor ama A, T, G, C disinda baska bir harf (nukleotit olan veya olmayan) verdigimizde kod calismiyor. Bunu baska bir fonksiyon yazarak duzeltin, yeni fonksiyonun adi: count_nucleotides2  \n",
    "\n",
    "Ipucu: If/else dongusunu hatirlayalim.\n"
   ]
  },
  {
   "cell_type": "code",
   "execution_count": null,
   "id": "elegant-ancient",
   "metadata": {},
   "outputs": [],
   "source": [
    "#Odev 3.3: \n",
    "\n",
    "def count_nucleotides(dna):\n",
    "    counts = {'A': 0, 'T': 0, 'G': 0, 'C': 0}\n",
    "    for base in dna:\n",
    "        counts[base] += 1\n",
    "    return counts"
   ]
  },
  {
   "cell_type": "markdown",
   "id": "failing-correlation",
   "metadata": {},
   "source": [
    "# Odev 3.4 printf-style formatting kullanarak iki ornek verelim"
   ]
  },
  {
   "cell_type": "markdown",
   "id": "overhead-feeding",
   "metadata": {},
   "source": [
    "# Odev 3.5 count_even_numbers fonksiyonundaki bosluklari doldurarak kodlari calistirin:\n",
    "\n",
    "Bosluklar su sekilde ifade edildi: ____ Kodun asagida verilen assertionlarda calismasi icin bosluklari doldurun. numbers argumani tam sayilardan olusuyor."
   ]
  },
  {
   "cell_type": "code",
   "execution_count": null,
   "id": "increasing-creativity",
   "metadata": {},
   "outputs": [],
   "source": [
    "____ count_even_numbers(numbers):\n",
    "    count = 0\n",
    "    for num in ____:\n",
    "        if ____ % 2 == ____:\n",
    "            count += ____\n",
    "    _____ _____"
   ]
  },
  {
   "cell_type": "code",
   "execution_count": null,
   "id": "french-premises",
   "metadata": {},
   "outputs": [],
   "source": []
  }
 ],
 "metadata": {
  "kernelspec": {
   "display_name": "Python 3",
   "language": "python",
   "name": "python3"
  },
  "language_info": {
   "codemirror_mode": {
    "name": "ipython",
    "version": 3
   },
   "file_extension": ".py",
   "mimetype": "text/x-python",
   "name": "python",
   "nbconvert_exporter": "python",
   "pygments_lexer": "ipython3",
   "version": "3.8.5"
  }
 },
 "nbformat": 4,
 "nbformat_minor": 5
}
