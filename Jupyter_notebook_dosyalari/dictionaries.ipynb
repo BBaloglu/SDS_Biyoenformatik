{
 "cells": [
  {
   "cell_type": "markdown",
   "metadata": {},
   "source": [
    "# [Dictionaries/Sozlukler](https://docs.python.org/3/library/stdtypes.html#dict) \n",
    " `key`-`value` takimlarindan olusur. "
   ]
  },
  {
   "cell_type": "code",
   "execution_count": null,
   "metadata": {},
   "outputs": [],
   "source": [
    "my_first_dict = {}  #ya da bir diger yontem: my_first_dict = dict()\n",
    "print('dict: {}, type: {}'.format(my_first_dict, type(my_first_dict)))"
   ]
  },
  {
   "cell_type": "markdown",
   "metadata": {},
   "source": [
    "## Initialization (sozluk elemanlari olusturma)"
   ]
  },
  {
   "cell_type": "code",
   "execution_count": null,
   "metadata": {},
   "outputs": [],
   "source": [
    "dict1 = {'value1': 2, 'value2': 4, 'value3': 6}\n",
    "my_second_dict = dict(value1 = 2, value2 = 4, value3 = 6)\n",
    "\n",
    "print(dict1)\n",
    "print(dict2)\n",
    "\n",
    "print('equal: {}'.format(dict1 == dict2))\n",
    "print('length: {}'.format(len(dict1)))"
   ]
  },
  {
   "cell_type": "code",
   "execution_count": null,
   "metadata": {},
   "outputs": [],
   "source": [
    "help(format)\n",
    "help('FORMATTING')"
   ]
  },
  {
   "cell_type": "markdown",
   "metadata": {},
   "source": [
    "## `dict.keys(), dict.values(), dict.items()`"
   ]
  },
  {
   "cell_type": "code",
   "execution_count": null,
   "metadata": {},
   "outputs": [],
   "source": [
    "print('keys: {}'.format(my_second_dict.keys()))\n",
    "print('values: {}'.format(my_second_dict.values()))\n",
    "print('items: {}'.format(my_second_dict.items()))"
   ]
  },
  {
   "cell_type": "markdown",
   "metadata": {},
   "source": [
    "## Degerlere nasil erisiriz ve nasil yeni deger olustururuz?"
   ]
  },
  {
   "cell_type": "code",
   "execution_count": null,
   "metadata": {},
   "outputs": [],
   "source": [
    "tarif_sozlugu = {}\n",
    "tarif_sozlugu['kuru fasulye'] = ['fasulye', 'salca', 'sogan', 'zeytinyagi']\n",
    "tarif_sozlugu['pilav'] = ['pirinc', 'tereyagi', 'su']\n",
    "tarif_sozlugu['pilav'] = ['pirinc', 'su']  # var olan degeri degistiriyoruz\n",
    "print(type(tarif_sozlugu))\n",
    "print(tarif_sozlugu)\n",
    "print('pilav icin gereken malzemeler: {}'.format(tarif_sozlugu['pilav']))"
   ]
  },
  {
   "cell_type": "markdown",
   "metadata": {},
   "source": [
    "Peki baktigimiz deger sozlukte yoksa? Bkz. `KeyError` ([`dict.get()`](#dict_get)):"
   ]
  },
  {
   "cell_type": "code",
   "execution_count": null,
   "metadata": {},
   "outputs": [],
   "source": [
    "print(tarif_sozlugu['corba'])"
   ]
  },
  {
   "cell_type": "markdown",
   "metadata": {},
   "source": [
    "## Sozlukten deger silelim"
   ]
  },
  {
   "cell_type": "code",
   "execution_count": null,
   "metadata": {},
   "outputs": [],
   "source": [
    "my_dict = {'key1': 3, 'key2': 9, 'key3': 15}\n",
    "del my_dict['key3']\n",
    "print(my_dict)\n",
    "\n",
    "# Oncelikle key var mi, ona bir bakalim (orn: pop() ve popitem())\n",
    "key_to_delete = 'key1'\n",
    "if key_to_delete in my_dict:\n",
    "    del my_dict[key_to_delete]\n",
    "else:\n",
    "    print('{key} is not in {dictionary}'.format(key=key_to_delete, dictionary=my_dict)) #format'i hatirlayalim"
   ]
  },
  {
   "cell_type": "code",
   "execution_count": null,
   "metadata": {},
   "outputs": [],
   "source": [
    "squares = {1: 1, 2: 4, 3: 9, 4: 16, 5: 25}\n",
    "print(squares)\n",
    "\n",
    "#pop yontemi ile bir elemani silelim, onun degerini gosterecek \n",
    "print(squares.pop(4))\n",
    "print(squares)\n",
    "\n",
    "#herhangi bir degeri rastgele silelim\n",
    "print(squares.popitem()) # (key, value) verecek\n",
    "print(squares)\n",
    "\n",
    "#her degeri silelim\n",
    "squares.clear() #sonuc {}\n",
    "print(squares)\n",
    "\n",
    "#peki sozlugu de silelim\n",
    "del squares\n",
    "print(squares) #artik hata verecek"
   ]
  },
  {
   "cell_type": "markdown",
   "metadata": {},
   "source": [
    "# Odev W2_1.1\n",
    "\n",
    "Dictionary [metotlarindan](https://www.w3schools.com/python/python_ref_dictionary.asp) 6 tane bularak cesitli orneklerde kullanin. Cikan hatalara (KeyError vs gibi) uc ornek verin. Sadece ornek vermeyin, ayni zamanda aciklama da yapin, bunun icin Jupyter notebook ozelliklerinden yararlanabilirsiniz (markdown gibi)."
   ]
  },
  {
   "cell_type": "markdown",
   "metadata": {},
   "source": [
    "## Sozlukler degistirilebilir (mutable). \n",
    "\n",
    "Baska hangi data tipleri degistirilebiliyordu?"
   ]
  },
  {
   "cell_type": "code",
   "execution_count": null,
   "metadata": {},
   "outputs": [],
   "source": [
    "notlar = {}.fromkeys(['1. hafta', '2. hafta', '3. hafta'], 88)\n",
    "print(notlar)\n",
    "\n",
    "guncel_notlar = notlar\n",
    "notlar['2. hafta'] = 90\n",
    "notlar['3. hafta'] = 92\n",
    "notlar['4. hafta'] = 82\n",
    "print('notlar: {}\\nguncel_notlar: {}'.format(notlar, guncel_notlar))\n",
    "print('equal: {}'.format(notlar == guncel_notlar))"
   ]
  },
  {
   "cell_type": "markdown",
   "metadata": {},
   "source": [
    "Kopyasini istiyorsak yeni bir 'dict' hazirlayalim:"
   ]
  },
  {
   "cell_type": "code",
   "execution_count": null,
   "metadata": {},
   "outputs": [],
   "source": [
    "notlar = {}.fromkeys(['1. hafta', '2. hafta', '3. hafta'], 88)\n",
    "yeni_notlar = dict(notlar)\n",
    "yeni_notlar['2. hafta'] = 90\n",
    "yeni_notlar['3. hafta'] = 92\n",
    "print('my_dict: {}\\nyeni_notlar: {}'.format(notlar, yeni_notlar))\n",
    "print('equal: {}'.format(notlar == yeni_notlar))"
   ]
  },
  {
   "cell_type": "markdown",
   "metadata": {},
   "source": [
    "<a id='dict_get'></a>\n",
    "## `dict.get()`\n",
    "\n",
    "dict.get(key[, value]) \n",
    "\n",
    "Eger `key` `dict` icinde degilse, cikan sonuc: `None`. Istersek, `key` `dict` icinde degilse cikan sonuc icin default bir deger tanimlayabiliriz."
   ]
  },
  {
   "cell_type": "code",
   "execution_count": null,
   "metadata": {},
   "outputs": [],
   "source": [
    "my_dict = {'a': 1, 'b': 2, 'c': 3}\n",
    "d = my_dict.get('d')\n",
    "print('d: {}'.format(d))\n",
    "\n",
    "d = my_dict.get('d', 'd icin gecici degerimiz')\n",
    "print('d: {}'.format(d))"
   ]
  },
  {
   "cell_type": "markdown",
   "metadata": {},
   "source": [
    "## `dict.pop()`"
   ]
  },
  {
   "cell_type": "code",
   "execution_count": null,
   "metadata": {},
   "outputs": [],
   "source": [
    "enzimler = {}\n",
    "enzimler['EcoRI'] = r'GAATTC'\n",
    "enzimler['AvaII'] =  r'GG(A|T)CC'\n",
    "enzimler['BisI'] =  r'GC[ATGC]GC'\n",
    "print('pop islemi oncesi enzimler sozlugu: {}'.format(enzimler))\n",
    "\n",
    "\n",
    "#pop yontemi ile bir elemani silelim, onun degerini gosterecek \n",
    "EcoRI = enzimler.pop('EcoRI')\n",
    "print('EcoRI: {}'.format(EcoRI))\n",
    "print('EcoRI cikardiktan sonra enzimler sozlugu: {}'.format(enzimler))\n",
    "\n"
   ]
  },
  {
   "cell_type": "markdown",
   "metadata": {},
   "source": [
    "## `dict.setdefault()`\n",
    "`key`e karsilik gelen `value` ilk parametre olarak verilir.  Eger `key` sozlukte yoksa, herhangi bir value'ye sahip `key` ikinci parametre olarak eklenir."
   ]
  },
  {
   "cell_type": "code",
   "execution_count": null,
   "metadata": {},
   "outputs": [],
   "source": [
    "new_dict = {'a': 1, 'b': 2, 'c': 3}\n",
    "a = new_dict.setdefault('a', 'default value')\n",
    "d = new_dict.setdefault('d', 'default value')\n",
    "print('a: {}\\nd: {}\\nnew_dict: {}'.format(a, d, new_dict))"
   ]
  },
  {
   "cell_type": "markdown",
   "metadata": {},
   "source": [
    "## `dict.update()`\n",
    "1) dict guncellenir, 2) iki `dict` birlestirilir"
   ]
  },
  {
   "cell_type": "code",
   "execution_count": null,
   "metadata": {},
   "outputs": [],
   "source": [
    "d = {1: \"one\", 2: \"three\"}\n",
    "d1 = {2: \"two\"}\n",
    "\n",
    "# updates the value of key 2\n",
    "d.update(d1)\n",
    "print(d)\n",
    "\n",
    "d1 = {3: \"three\"}\n",
    "\n",
    "# adds element with key 3\n",
    "d.update(d1)\n",
    "print(d)"
   ]
  },
  {
   "cell_type": "markdown",
   "metadata": {},
   "source": [
    "## `dict` icindeki key degistirilemez"
   ]
  },
  {
   "cell_type": "markdown",
   "metadata": {},
   "source": [
    "O yuzden key icin liste veya sozluk kullanamayiz, cunku bunlar degistirilebilir yapilar.\n",
    ":"
   ]
  },
  {
   "cell_type": "code",
   "execution_count": null,
   "metadata": {},
   "outputs": [],
   "source": [
    "# kotu_dict = {['my_list'], 'value'}  # TypeError gelecek"
   ]
  },
  {
   "cell_type": "markdown",
   "metadata": {},
   "source": [
    "Values degistirilebilir"
   ]
  },
  {
   "cell_type": "code",
   "execution_count": null,
   "metadata": {},
   "outputs": [],
   "source": [
    "iyi_dict = {'my key': ['Python', 'yine de', 'cool']}\n",
    "print(iyi_dict)"
   ]
  },
  {
   "cell_type": "code",
   "execution_count": null,
   "metadata": {},
   "outputs": [],
   "source": [
    "#Biyoenformatige giris: Dictionary kullanimina ornek\n",
    "\n",
    "dna = \"AATGATGAACGAC\" \n",
    "dinucleotides = ['AA','AT','AG','AC', \n",
    "                 'TA','TT','TG','TC', \n",
    "                 'GA','GT','GG','GC', \n",
    "                 'CA','CT','CG','CT'] \n",
    "all_counts = {}  #sozluk olusturuldu\n",
    "for dinucleotide in dinucleotides: #sozlukteki her bir eleman icin\n",
    "    count = dna.count(dinucleotide) #o eleman kac tane var, sayalim \n",
    "    print(\"count is \" + str(count) + \" for \" + dinucleotide) \n",
    "    all_counts[dinucleotide] = count #bu elemanlarin hepsi birer key, bunlara karsilik gelen value'lari olusturalim\n",
    "print(all_counts)"
   ]
  },
  {
   "cell_type": "code",
   "execution_count": null,
   "metadata": {},
   "outputs": [],
   "source": []
  }
 ],
 "metadata": {
  "kernelspec": {
   "display_name": "Python 3",
   "language": "python",
   "name": "python3"
  },
  "language_info": {
   "codemirror_mode": {
    "name": "ipython",
    "version": 3
   },
   "file_extension": ".py",
   "mimetype": "text/x-python",
   "name": "python",
   "nbconvert_exporter": "python",
   "pygments_lexer": "ipython3",
   "version": "3.8.5"
  }
 },
 "nbformat": 4,
 "nbformat_minor": 2
}
