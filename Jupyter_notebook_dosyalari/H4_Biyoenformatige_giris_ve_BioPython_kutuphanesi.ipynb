{
 "cells": [
  {
   "cell_type": "markdown",
   "id": "quiet-robin",
   "metadata": {},
   "source": [
    "## Biyoinformatik çalışmalarına bazı örnekler\n",
    "\n",
    "* Genom projelerinden elde edilen verinin düzenlenmesi\n",
    "* Hastalıklara ait genlerin keşfedilmesi ve toplumdaki sıklığının belirlenmesi\n",
    "* Hastalıkların altında yatan genetik temellerin araştırılması\n",
    "* Bir DNA dizisinin hangi gene ve canlıya ait olduğunun bulunması\n",
    "* Bir protein dizisinin hangi gene ve canlıya ait olduğunun bulunması\n",
    "* Büyük ölçekli gen ifade analizleri\n",
    "* Protein dizisinden 3 boyutlu yapı tahmini\n",
    "* İlaç etkileşimlerinin araştırılması\n",
    "* Yeni ilaçların keşfi (Bilgisayar destekli ilaç tasarımı)\n",
    "* Karşılaştırmalı genomiks/proteomiks \n",
    "* Moleküler evrim, moleküler filogenetik\n",
    "* Kütle spektrometresi ile protein tanımlama\n",
    "* Biyolojik anlamlandırma: Anotasyon ve yolak analizleri\n",
    "* Metastaz yapan kanser hücrelerinin modellenmesi\n",
    "* Canlıların yaşam döngülerinin ve yayılışlarının modellenmesi (ekolojik modelleme)\n",
    "* Meta-analizler\n",
    "* Yeni Nesil Sekanslama veri analizleri\n",
    "* Mikrodizi analizleri"
   ]
  },
  {
   "cell_type": "markdown",
   "id": "resident-technician",
   "metadata": {},
   "source": [
    "Biopython websitesi (http://www.biopython.org) Python tabanli biyoenformatik modulleri ve kodu sagliyor. Icinde kullanabileceginiz cesitli siniflar (class) var, farkli dosya tiplerini (BLAST, Clustalw, FASTA, Genbank,..) analiz etmenize imkan verecek ozelliklere sahip, cesitli online kaynaklara ulasmaniza olanak sagliyor. Dokumantasyonu da oldukca iyi, buradan daha ayrintili bilgiye ulasabilirsiniz. "
   ]
  },
  {
   "cell_type": "code",
   "execution_count": null,
   "id": "scientific-breeding",
   "metadata": {},
   "outputs": [],
   "source": [
    "#Command line'da bu sekilde yukleyelim\n",
    "!pip install biopython"
   ]
  },
  {
   "cell_type": "code",
   "execution_count": null,
   "id": "popular-attribute",
   "metadata": {},
   "outputs": [],
   "source": [
    "#Biopython kutuphanesinde kullanilan ornek dosyaya (orkide bitkisinin DNA dizileri) bakalim \n",
    "# Dosyayi indirelim\n",
    "from Bio import SeqIO\n",
    "import requests\n",
    "\n",
    "def get_file(url, filename): \n",
    "    \"\"\"\"bu fonksiyonla verdigimiz bir url ve dosya adi ile dosyaya ulasiyoruz\"\"\"\n",
    "    res = requests.get(url)\n",
    "    if res.status_code != 200:\n",
    "        raise Exception(\"Could not get file\")\n",
    "    \n",
    "    #dosyayi yazmak icin aciyoruz\n",
    "    with open(filename, 'w') as fh:\n",
    "        fh.write(res.text)\n",
    "\n",
    "\n",
    "def process_file(filename, file_type):\n",
    "    \"\"\"dosyayi proses eder, icindeki bilgileri raporlar\"\"\"\n",
    "    for seq_record in SeqIO.parse(filename, file_type):\n",
    "        print(seq_record.id)\n",
    "        print(repr(seq_record.seq))\n",
    "        print(len(seq_record))\n",
    "\n",
    "\n",
    "fasta_url = 'https://raw.githubusercontent.com/biopython/biopython/master/Doc/examples/ls_orchid.fasta'\n",
    "filename = \"ls_orchid.fasta\"\n",
    "file_type = \"fasta\"\n",
    "get_file(fasta_url, filename)\n",
    "process_file(filename, file_type)\n",
    "\n",
    "genbank_url = \"https://raw.githubusercontent.com/biopython/biopython/master/Doc/examples/ls_orchid.gbk\"\n",
    "filename = \"ls_orchid.gbk\"\n",
    "file_type = \"genbank\"\n",
    "get_file(genbank_url, filename)\n",
    "process_file(filename, file_type)"
   ]
  },
  {
   "cell_type": "code",
   "execution_count": null,
   "id": "cheap-twelve",
   "metadata": {},
   "outputs": [],
   "source": [
    "from Bio import SeqIO\n",
    "for seq_record in list(SeqIO.parse(\"../data/ls_orchid.fasta\", \"fasta\"))[:5]: #dosyayi koydugunuz yerin adresi buraya\n",
    "    print(seq_record.id)\n",
    "    print(repr(seq_record.seq))\n",
    "    print(len(seq_record))"
   ]
  },
  {
   "cell_type": "code",
   "execution_count": null,
   "id": "tested-failure",
   "metadata": {},
   "outputs": [],
   "source": [
    "from Bio import SeqIO\n",
    "for seq_record in list(SeqIO.parse(\"../data/ls_orchid.gbk\", \"genbank\"))[:5]:\n",
    "    print(seq_record.id)\n",
    "    print(repr(seq_record.seq))\n",
    "    print(len(seq_record))"
   ]
  },
  {
   "cell_type": "markdown",
   "id": "quiet-roman",
   "metadata": {},
   "source": [
    "gbk genbank formati. Burada gordugunuz gibi **seq_record.id** icin, fasta formatinin ciktisindan farkli olarak daha kisa bir string uretti."
   ]
  },
  {
   "cell_type": "code",
   "execution_count": null,
   "id": "wired-robert",
   "metadata": {},
   "outputs": [],
   "source": [
    "# DNA veya RNA dizileri biyoenformatigin en merkez objeleri. Bugun Biopython'un Seq objesini epey kullanacagiz. \n",
    "from Bio.Seq import Seq ##Seq burada Biopython kutuphanesinin icinde yer alan siniflardan birine ait bir obje\n",
    "my_seq = Seq(\"GAGGTGGCTCGTGCGAAGTCGTCG\")\n",
    "for index, letter in enumerate(my_seq): #enumerate fonksiyonunu hatirlayalim\n",
    "    print(\"%i %s\" % (index, letter))\n",
    "print('my sequence length is:', len(my_seq))"
   ]
  },
  {
   "cell_type": "code",
   "execution_count": null,
   "id": "raising-symphony",
   "metadata": {},
   "outputs": [],
   "source": [
    "#biz burada herhangi bir string verip asagidaki islemleri yaptiramayiz. \n",
    "my_seq.complement()"
   ]
  },
  {
   "cell_type": "code",
   "execution_count": null,
   "id": "authorized-terminology",
   "metadata": {},
   "outputs": [],
   "source": [
    "my_seq.reverse_complement()"
   ]
  },
  {
   "cell_type": "code",
   "execution_count": null,
   "id": "numeric-shelter",
   "metadata": {},
   "outputs": [],
   "source": [
    "#tipki stringlerde oldugu gibi Seq objesinde herhangi bir sekans icin de slicing yapabiliriz.\n",
    "\n",
    "print(my_seq[0]) #first letter\n",
    "print(my_seq[4]) #third letter\n",
    "print(my_seq[-1]) #last letter"
   ]
  },
  {
   "cell_type": "code",
   "execution_count": null,
   "id": "considerable-fiction",
   "metadata": {},
   "outputs": [],
   "source": [
    "#Seq objesinde de .count() metodu var. \n",
    "\n",
    "print(\"AAAA\".count(\"AA\"))\n",
    "print(Seq(\"AAAA\").count(\"AA\"))"
   ]
  },
  {
   "cell_type": "code",
   "execution_count": null,
   "id": "apart-wages",
   "metadata": {},
   "outputs": [],
   "source": [
    "DNA_dizi1 = Seq('GATCGACtgatgctCAAGCTGCCTATATAGGATCGAAAATCGC')\n",
    "print(len(DNA_dizi1)) \n",
    "#DNA_dizi1 = DNA_dizi1.lower()\n",
    "print(DNA_dizi1.count(\"G\"))\n",
    "print(100 * float(DNA_dizi1.count(\"G\") + DNA_dizi1.count(\"C\")) / len(DNA_dizi1)) #GC nasil hesaplanir\n",
    "#print(100 * float(DNA_dizi1.count(\"g\") + DNA_dizi1.count(\"c\")) / len(DNA_dizi1)) #GC nasil hesaplanir"
   ]
  },
  {
   "cell_type": "markdown",
   "id": "pending-orchestra",
   "metadata": {},
   "source": [
    "## GC yuzdesini hesaplayalim\n",
    "\n",
    "* Molekuler biyolji ve genetikte GC yuzdesi/orani, DNA veya RNA dizilerinde Guanin ve Sitozin bazlarinin yuzdesi demektir. \n",
    "* GC baz çiftinde üç hidrojen bağı vardır, AT'de ise yalnızca iki; bunun sonucu olarak GC çifti daha kararlıdır. Bu yuzden Polimeraz zincir reaksiyonu tepkimeleri tasarlanırken de GC içeriği ve ergime sıcaklıgi göz önüne alınır. "
   ]
  },
  {
   "cell_type": "code",
   "execution_count": null,
   "id": "incoming-decline",
   "metadata": {},
   "outputs": [],
   "source": [
    "# Biopython'dan GC metodunu da kullanabiliriz, hatta bu oldukca guvenilir, cunku kucuk harfli bazlari da hesaba katiyor\n",
    "# Yazdigimiz kodda dikkat etmemiz gereken bir husus, datayi analiz etmeden once standardize hale getirmek\n",
    "# mesela yukardaki ornekte .lower() metodunu kullanip sonra GC yuzdesi hesaplamak mantikli olabilirdi\n",
    "\n",
    "from Bio.SeqUtils import GC\n",
    "\n",
    "my_seq = Seq('GATCGACtgatgctCAAGCTGCCTATATAGGATCGAAAATCGC')\n",
    "GC(my_seq)\n",
    "\n",
    "# Bio.SeqUtils.GC() fonksiyonu ayrica degenerate bazlari da hesaba katiyor (ornek, S = G veya C demek)."
   ]
  },
  {
   "cell_type": "code",
   "execution_count": null,
   "id": "cultural-punch",
   "metadata": {},
   "outputs": [],
   "source": [
    "#sekans slicing yapalim\n",
    "my_seq = Seq(\"GATCGATGGGCCTATATAGGATCGAAAATCGC\")\n",
    "my_seq[4:12]"
   ]
  },
  {
   "cell_type": "code",
   "execution_count": null,
   "id": "subtle-absence",
   "metadata": {},
   "outputs": [],
   "source": [
    "print(my_seq[0::3])\n",
    "print(my_seq[1::3])\n",
    "print(my_seq[2::3])"
   ]
  },
  {
   "cell_type": "code",
   "execution_count": null,
   "id": "heavy-dining",
   "metadata": {},
   "outputs": [],
   "source": [
    "#sekansi tersine cevirelim\n",
    "my_seq[::-1]"
   ]
  },
  {
   "cell_type": "code",
   "execution_count": null,
   "id": "cleared-contribution",
   "metadata": {},
   "outputs": [],
   "source": [
    "#sekansi string formatina da cevirebiliriz\n",
    "str(my_seq)"
   ]
  },
  {
   "cell_type": "code",
   "execution_count": null,
   "id": "induced-quarter",
   "metadata": {},
   "outputs": [],
   "source": [
    "#sekansi fasta formatina cevirelim\n",
    "fasta_format_string = \">Name\\n%s\\n\" % my_seq\n",
    "print(fasta_format_string)"
   ]
  },
  {
   "cell_type": "code",
   "execution_count": null,
   "id": "alleged-andrews",
   "metadata": {},
   "outputs": [],
   "source": [
    "#Peki sekanslari birbirine nasil ekleyebiliriz?\n",
    "#Yontem 1: Biopython kullanmadan\n",
    "from Bio.Seq import Seq\n",
    "list_of_seqs = [Seq(\"ACGT\"), Seq(\"AACC\"), Seq(\"GGTT\")]\n",
    "concatenated = Seq(\"\")\n",
    "for s in list_of_seqs:\n",
    "    concatenated += s\n",
    "concatenated"
   ]
  },
  {
   "cell_type": "code",
   "execution_count": null,
   "id": "coordinate-model",
   "metadata": {},
   "outputs": [],
   "source": [
    "#Peki sekanslari birbirine nasil ekleyebiliriz?\n",
    "#Yontem 2: Biopython kullanarak\n",
    "from Bio.Seq import Seq\n",
    "contigs = [Seq(\"ATG\"), Seq(\"ATCCCAGATGATG\"), Seq(\"TTGCA\")]\n",
    "spacer = Seq(\"N\"*5)\n",
    "spacer.join(contigs)"
   ]
  },
  {
   "cell_type": "code",
   "execution_count": null,
   "id": "duplicate-pregnancy",
   "metadata": {},
   "outputs": [],
   "source": [
    "#Biopython'da yer alan built in yontemleri kullanarak complement ya da reverse complement elde edebiliriz\n",
    "from Bio.Seq import Seq\n",
    "my_seq = Seq(\"GATCGATGGGCCTATATAGGATCGAAAATCGC\")\n",
    "print(my_seq)\n",
    "print(my_seq.complement())\n",
    "print(my_seq.reverse_complement())"
   ]
  },
  {
   "cell_type": "code",
   "execution_count": null,
   "id": "sudden-services",
   "metadata": {},
   "outputs": [],
   "source": [
    "# bahsettigim gibi bu basit islemle de reverse diziyi elde edebiliriz. \n",
    "my_seq[::-1]"
   ]
  },
  {
   "cell_type": "code",
   "execution_count": null,
   "id": "oriental-balloon",
   "metadata": {},
   "outputs": [],
   "source": [
    "#Peki built fonksiyonlari kullanmadan kendimiz fonksiyon yazsak?\n",
    "\n",
    "#reverse complement problem\n",
    "\n",
    "def rev_complement(sequence):\n",
    "    '''bir DNA dizisi alir ve onun reverse complement dizisini uretir.'''\n",
    "    rev_comp = ''\n",
    "    sequence = sequence.lower() #dikkat!\n",
    "    for letter in sequence:\n",
    "        if letter == 'a':\n",
    "            rev_comp += 't'\n",
    "        elif letter == 'c':\n",
    "            rev_comp += 'g'\n",
    "        elif letter == 't':\n",
    "            rev_comp += 'a'\n",
    "        else:\n",
    "            rev_comp += 'c'\n",
    "    return rev_comp[::-1].upper()\n",
    "\n",
    "sequence = 'TTCTAGGGGTTACATGTAGAGCGGGTTAACTCCAATGATAGCCATTACCCCCCACTGTGCAAGTTGGCTACCCTCGACGAACCGCTTGCCGGGCTCTACCCCGATCGTCATCCGTTTGTCCCTGATATGGTTTGCTATCGAATAGATTACATTAATCATCAATTTCACGCGTAGGATCTATAATTCTGGAAAGCTGCAGCTCTTTGAACCGAGGAAGAACGCCAATTATGATAGAGCATTCAGCTACAGTGACATGGCCCGGACACAAAGCTCGACAGCACTACTGTAAGAAGTGGTATCGATCGCTCCTACCGAAGCGATGACTCAATTTCTATCACAGATCAACCTCGCTAGATGCTCTAAGGTGTTTCACTACACGGAATACAATGCGTCAACACTATCGCAAACGTAAGTGCTGTGTGTGTGCACAGACTTGCCATCTCAGAGTCTGCAGAGCTATCAGTTGAGTTCCGAGTAACTACGACTGTATAGATACCGCTGTCACAAGAACCTCGAGCTAGATGTTTCAAGGAGGTTACGTTAGCCAAGCTTAAGGTTCGCCATCGTCAGAGTTTGAAGTATTCCCTGACGCATGCATCCCGTAGACTCTTAGCTACACGCCGCTGTCCTTTACGTCGCGCCCGCGGAATATGACCAGAGACACGCGCTGCGCGTGTAGGGCATGACGTAATTGCGCGCTTCCGTCGTATCTAAGACATCTTACGCGATGAAAGGGCGTCGTGGTGAGAATCGTTCTCATACAGCCGGTTCGTCACGCGATACGAGACTCTACTCTCTGAATGTTCGTTCTTGAAACATAAGGCTTTCATGAGACGGGACAAGTTACTTTTGTTGAGAACCACATCCACGATACGACTCCCCACTTTATGCCTTGGAACTAGATGTAAATGGGACAACGGCGCGACCCTCGGTATAGTAGGGATTGTACAAGTGGGTTGGAAAATTATTGTGCAATTTTTAGTCGCCGCCCACGAGGCGTGTGCTGGCGATAAATACCCCCAAGCGAGAGTTGTCTGCTGCACGGTCAAGGCCGTTGTGGTACAGAGGTACCATCCGGGTCCGCCACGTACCTCGACGAGGAGTGATTGGACACGACTCTGGAAATTGCTACAGTAGTTAACTGAATATCGCAAACCATTGTTCACAGGGACCGCGCAATGTTCTTCTTCTCTCCGGCTCCGAGACTAGGGAATTAACAGTGTGGAGACCTTGGGGTGAGGTAGGATGTGTAGCCTCTGGTATACGAAAACAACGCATCCGACACCAATATGTTATAGTGTCATATCCGGGGGGAGCCGGAGAAGTGACCGTTATGCCACAATGTCCCCGAGATCTCGTAGGTCTTTTGAGGAGTTACGCCTAAGCGTGTAACGAGACCTGCGCTTTACGAATATTGGTTGCGGAGGGGAGTCTTTCGATCGTGCGTTGCTGACGTAGAATGAGGACGGCCAACAAATCCGATCGATCAGGTTTCTCTGTATATGACAGGCGGGCAGTTGATAATAGGTTCTACTGTAGAAGAATCTCATGTCCTGTGTCTGTACCCTCTCGTCATAGCGCCCTGCCCCTTTCACTACCACCCGCCGGGGGGTACAAGGGGTTCGTAAACAGCAACTCTTCATAGTCATTAAGCGATGTTATGAGACAAGTCAAGTGGGACATTAAGCTGGACAGATGTTGCGACGCGACCCACGTCACACGGAGTGTGGACCTGAGCTAGCGCCAGACGATGCTCGCACGGCCAACGTGTGGGGCCAGATCCGCCAATTGTAAAACAACCGGCGCACCACCGGTAACCGTTAATCCGGCAGCGTTAAATCTCGCAATTTGTTGCAAGCACAAATAGAGTTATCCGCACTCTATTTTGTTTGAGAGGACGCGACCGGAGGCATTTAAGAAGCGTGTTACAGGGGCACGTACTACAATATTTGGATAGGCTAAAAAGTACACTTGCAGGGGTATCCACTATCCCTTCCGACGTAGATCTGCACGGGAATATCTGCAGCTGGCGAGAGGAAACGTACCCGCTTGAAGCGGATCGGTAGTGTTTGGAGAGATAGTTGGGTTATGGACTCATGAAGACGTTAAAAAAGGCCAACTTAGCCAGACTTGGGCTCGTGAGGCCGATGGAAAGTCTAGCTGGTTACAATCAGTGAGATTTGTCTGCCGCTCTGGACTTCGCCGTCGATGCCCCGTGACTTGCCAGTCAGCCCGGTCCCCGCTTAATCCACATCAGCGCATTCCTCACCTCCGGCCCCCTGCGATCGGACCGAGCCCTTCTCGAGATTCATTATGCTAAGTAGCCGACCTCAATCACGTAATAACGTTATGGGTATCGACGGGGCACCGACTGCCAGAGACGTCGCTAAGATGGGTTTTCGGGTGTAAAACAATCGTCATTATACAGCCAGGATAGGACATTCCGTGCGTTAATGTATAAAATTGGGCTGCGCCGGGCGCCCGTGGTGAGTTGCCTACGAGCCAACTATGAGTATACAGTATCCACTGTCCACACGCCGTAAGCATCGGTAAGGACAACGAATGGTACTTCGATCAGTAGCCAGGATCCGATGGCGCAAATGGCTTGTGTACCCTGCGTTTATTGGACTGTCTATTATGCGATACCACCCATCAAGTGACCCCTAGTGATAGGTGGACGCGATGGCTGCCCTGCAACCGCTCATACGGCATGACTAAGCGTGTGGATGGTCATCTCCATTCGATCACGTGTTACCTCTGGCATACCCATCGATTTTCGAATTATTCTCTGCAACAAATGATGGGAGCAGAAAACACTGACCAGACCCGCGTACAGACCGTATCCACTGCATTTTTTGCGCTGGGCATATGACACCTTTGCCAAAAGGGTTTGCATTCAGGTGAAAGAGAGCAAAGCACGTACGGCGCGGCGTGGGAATTATCGGATTCCCTTGGTACCCTACGTCACGAGACAGTCCCAGACCCTTATTTGTCGTAACCGAAAAGAAAGGGCAGGAAACCTAGATAAAATGGGCAAAAGTAGTCTGATGAGTCCGTATTGTTAGTTTACGAACTCCGGACAACTATCCAGAGTATAGACAACTTCCTATTCCAGGCTATGAATTTAGCCCAAGCACCTTTCCCAGTTTTTAATTTGGAGGGGTCCCACTTTTAGGTACATACAGTTGATCGGTCCTTTCACATATTGTCGCGTGCCTGACCACGTTAAGGCCCGATCGGAATTAGTAGCTATTGCCAAAAGAAATGAGATGTACATAGCCCTGCGGGGAACGATCCTACACCTGTCACGGGGTAATTTTTTGAGCCGTGCCTTCCTAGGGTGAGGTAGTCGTGCTCCGGCTCGAAGAATATTCTATTACCTTCTGTCGGGTGAGAGTAATGGTACGCGAGCGACGCCACTACACCGGATTAGGGGTTAGGCGAGCTATGTCGGGCCGGTGAGACTTCAGCATGCATTCAAATGGGCCTATAGTAAGCTTGTGAGCCACTACGGCTGTCCCAAGATCTTAGTTCCCGCGAGTCTGGACTCCGCCTATATAGTAGACTTCTAGTGTAGTTGAGCTTGACCCAGATCACGTAATACCGATAACTAGCGGGTCCGGTGGTTTCTTTGCGAAACATTACAGACCGTACGAATAGTTCATTATGTGAGCTGAGCCACCCGACGACCCCGAAGAGCCGTAGAGTTGACCTGCGGTGCCATTAGAGTGCCCTGGCCCGGAGCGTAGCGAACGGAGGCTGCTATGCCAAATCCCTAAGTCCTACAAAGCTCTCGGAACACATGGTCCCCACGTAGTCAGAAAGCACCTACCAAACATTTAGGCCGCCCGTGTGGGAGAAGCCAACACCCGGGTACCAGCATTACTCGTGATCTAGTACTGAAAATACTAAGTTCACTCCACTCTAGCTCCCGCTTCTGGGTATTAGAAAGCAGAACTCGACGGGTATAAATCAATTCCTAATACGCTGTGACTGATAATACGTGTCCTGGGGGCGGCTATGCCTAGTTAGGTGTGAATTCGACGTAGTCGGACACACGCAGTAGTCATAAGGCAAGGTATTCCAACAAATAGTCCCGGGGGATCATACTAAAATGGTATTGACATTCGGCTCGTGGCCTAGAACTGAAACAAGCCTTAGATCGTTATGGGTTAGAGCCTAGTGAGGAGAAGCAGGCATTCCGACTCTCAAGGTCCCCAGCAACGATACGTTACGTGTAACGAGAGATACTGTGCATTATATACCTTCGCGCGGACTTGATAGAAAGGAGACGCGTGAGCAATGTATCTCACTGATCAGGCGAAGTCTACCACTGAGCCCTGAAACGCACGGTATAAGCGAGACAAGGCCGTATCGGGGAAACTTCTGGTAAACCACCGGGCCCTAGCGTGTAGATTGTAAACCCTATGGTTCGCCATCACCAGCCTTTGACGAGAACAGCCCATGCCTATCTTTGGACCAGTGTCCTGCATTCCGTCCGCGTTAAGAACCGTGTAAAGTAGACTGACTAATGGTGTTGAGTCAGAGGCCTTGCTCGCGTGGCAGTTTTCATGCTGGGTCGAGCCTAACCAAATGTCTAAACGGATGGCAACCCTTGGATACCTCGCGTACGTCCAAGACAGGCTAGCTACCTGCGCTTCCCATCTTTGCTGCCGAGATAGGCTACGGTACGGGATGTGAGTGTAAAAATTGACAAGTCAAGAGGCTAGATTCGATCTTTTATTGCGCAGGTCATGCACGGCCTCCACGTGTCAAGTGTCGGGCCCCAGACTCCGAGGGTCCCTGGCTTCGGCATTCGGAACGTCCCAATTTTAAGACCTAAGTTGGGATCCGCTCAGAACAGCTGTCACGGTAATTCGAGTTTATTGGTACACCATTCGTAGACTGCGGTTAAGGATTACCCTACTCATGCTATCAACGGAGGTAGACACTCATGAAGGATACGAAGACCCGATAATACCGCATGGATATCAACATTTGTTGACCATACAACCAGATGCCTGCACCTGATGATTGGGCAGGTCGAAGATCGTGGTTAGTGCACGATAGGCCGAGCTAGACTCGATGCAGAAAGCGTGATTGATTTCGCGCCCATAGACTAAGGTAAACGCACTCTAGTGGATCAGCTTCATCCACACGGAACTCAAGCTGCACCGCAAGTTCTGTGTGATTGAGGACAACCACCCTGGATTCAAATTAGATGAATAGACAACCGTGATTTGACGAGAGGGTGTGGTGTCGAACCACCGACACTTAGACCTACTTTAGTTCCCAAGTAAATGAGGTCTCGAGATTATCCGCCCTGAAAAGTGTCTAGCTCATTGAGTACTTCCAATTGTTATGGATAGATTTCATGGTCCTTCTACTTCCGCTCGAATAGAGCGACAGCCCTGGGCACTCGGCAAATGAACCAGAATTAGATTGTACATATCAACATATGTTGATGCCGCACTCACTCGCATTCTCGCTGTTCTAACACCCCGCTTCCATCATCTAGCTACGTCCGGCCAAATATACAGGCTGGAGGCGCTGGCCAGGGGCATCCGCCTGACTGCATTTGATTTGGTGAGCTCTGCTGAAGTTTCCCCATATACCCTCATAAGTACCCTTCTGCACAGGTCTGTGCTTCACATTACAGGGTGCAATCCAATACTGTTGTATGCTGACGCCTTCCTATGTGCGAAAGGCCGTTAACACCGCTGCTGATACTCCTTATGCATTTTGCGATTATCGGTCGAACCAGTTGGAACATGACCGTCTTCCAGCGGCTCTGCGTTAGCACCACCATGAAACTTATTTGATACAGCCCAGCAGGCAAGTCGAAGACGAGGCCCACGGTGACTAGTGTTGTAACACTACCGATCTGATGTCGAAAGGTCAATAACCCAACGTCAGGGATTCGCTAACGAGGGTGTTTTATGTGACAGAAATTACGAATAAAAGAATAGCAGCCTTCCTGGCTCCGCATAGCGGAACATATCTTTACGGCCTATGTAAATATACTCCAGGCGAGGGCATAATTATTTCATAATGTTCCTTAGTAGGACAAAATAGCGGAAGACTATAAGTCCAGAGAGAGCGGAGCGCATCATCACCCTCGCGTCCTCTCATCAGGGTGTTCTCGGCCACAGTCCGTTGTTTCATTTTAAGTGCTCATGACTTTGATCTGTCTGCAAATACATGAAATTGATGATGCCGGCGTGATTGGGAATCGCCGTGGAACGTCCGTGTGTGATTCGCGCGAAAGTGTTTGGTCGTTCCTCGCCCAACCAAAGGCAGTGACACAGGTAAAATACTCGGTTAGAGAGGCTCACGAGACTTCGGACACGAAGGGAAAATTAGGGTAGCGCTGACTGCGCCGAGCATACTACGAGTCCCGCGCCCGAGGGACTCGTGAGGGCGACCATCACCGCTGTTTTCGGGGGCCCCACCGTTCATAATTCCACTACGCAAAACTAGGCTTGGGGTGTTGGTGATGGTTCCAGTCTGCGTCCTCTAGCAGGGCTCCCGCCTGGTAAGGCCACTTATACTAACCTTTTTGGTTTTTGCAGGAAACCGTTCTAAGACTGATAATCTTTAATAATCAATGCTTGGCGAGCTAACAGCAATGAGATGCGGGTCACCATAACGGGTTTAAACTCCGAACGAGAGACTGGTCGATGCATACGCACCCTCCCCACGGGGAGGGGAACTGGTACTAAGCTCACACGCGTGCTAACGTCAGCGGGACCTTTTAATCATCAGAGACTTTAGGACCCTACCACCCCGATAGTAATACGCACTATCTGAGGGGTTAGTCCGCGAGCCCTCTCTCTCCTTTGGACTTGGACCTGCCGATTGCAATAATGGTCGGTGTATGGTTTAATGCTACTCTGCGCTCGGACGGTCCTCAAGCTGAGGGGTGGAAGAACGCGTACCATTTCTACACGCCACCGTAGCAATAATTTAGAAGCCGTTTTTTATTCATCGTCAAATTTTTGTTTGCGGCTGTGTCTGACGTCCGTCGGCAGTATGAACATCTATCAGCGCATCGAAATGAGGTGAGATATCTCTCTGTCAATCGACTCCGTTTAGTTCATTGTATTGACGAGATTTTGATGGTCACAACCTCATCGCTATCAAACCTCGGACAGTACCGGCCTAGAGCGCTTCGGTTTTGTGCTAGTAAGGGATAATCGCTAATTAGAGGTCATGGCGATCCCCACAGTACCCGGTAGGCAAGGGAGCTCGTGCCAGCTAAGATAACCGCTAGAATTACAAACCGTGTTGATTCTCCGGCATGTTCCGGGACGTGGAGTAAATCCTGATGTCACCAGGCGACCTTTTCAATAATAATCTCGTCTACAACTCTGTTATCATGTACCAGTGCGCAGAACGCAGGTCACATGTCCTCTCAGCACATAGTACGAATGGAGTTCATTAAACCATGTGATATGAGCGGTTGTTACAAAGACGCGATCCAGCGGATCTTTTTGTCGAGGGCGTCGAGTTATCACGAAAGCGCTGCTCAGGGAAATTCTCGCGTATCTGGTTAGCATCTTTACCGGCACAATGACTAATGCTTCGTAGTCTAACTAGGCCTAGTAACGATCCTATATTCCAACCGGGACGCACGCACCCAAGTCTACAGGTAAATGCATTGTCAATGTGTAAGGTCACATCTCAGTTTACAAGTGTCCTCAGAACTGACGTCTAGATAGCAAACTGTGGAAGCACACGGCGGTCCGGGGTAAAAAGCTGTCCTATAGGAAGATAAAAATACTAATAACGTTGATGGCAGAATATTATTATTTGGTTTAACTGCTCCCGAAGGACGCTATGTTGTTAAAGTTGCCTAAATGCTTCTTTTTGTATAATCGGTTATGACCCTTTCGAAATAATACATGTTCTCCGTACCTTTCAACTTGGAATACACACTGGTCCCATCTCGTATCTATCAAAGCGACGTGTGCCTATCTAGCGTTCCAGGTGCTAATTAGGAGGACAAGCGGATTGTTGGAATTCGCAGTTAGTAACATGCAGAGCTCAGCCCCGTCCTCCACAGTGGTTATGACTTGGAAAGCCCTATCCGCCAAATAACAAGCTATCCATCAGTGCGGCGATACAAGTGCCAATATGCCACAAATCGACCACCCAAAAGTGGATTAACTGTCATG'\n",
    "print(rev_complement(sequence))      \n",
    "\n",
    "#bu aslinda basit sayilabilecek bir fonksiyon. Mesela degenerate bazlari hesaba katmiyor. "
   ]
  },
  {
   "cell_type": "markdown",
   "id": "tough-calvin",
   "metadata": {},
   "source": [
    "# Odev 4.1: Complement veya reverse complement molekuler biyolojide ne anlama gelir, 3-4 cumlede aciklayin, ornek verin (markdown kullanabilirsiniz).\n",
    "# Odev 4.2: Ayrica Genbank'ten indirdiginiz bir DNA dizisinin complement ve reverse complementinin ciktisini uretin. \n",
    "# Odev 4.3: Biopython'un built in reverse complement fonksiyonu nasil calisiyor? Yukardaki fonksiyonumuza ne ekleyelim ki, degenerate bazlari da hesaba katalim?"
   ]
  },
  {
   "cell_type": "markdown",
   "id": "particular-vehicle",
   "metadata": {},
   "source": [
    "#### Bir diger class da SeqRecord ya da Sequence Record. Bu sinif/class bir DNA/RNA dizisini depolar, yanisira bu diziye air tanimlayici (identifier), isim ve detaylari da kaydeder. Biopython kutuphanesinin Bio.SeqIO modulu SeqRecord objelerine uyumlu calisir, onlardan farkli tip sekans dosyalarinin okur ve cikti uretir. "
   ]
  },
  {
   "cell_type": "raw",
   "id": "mighty-magazine",
   "metadata": {},
   "source": [
    "Biyoenformatigin buyuk bir kismi biyololojik veriyi tutan farkli dosya tipleriyle ugrasmaktan, onlari standardize etmeye (parsing) calismaktan geciyor.\n",
    "\n",
    "Sonraki derslerimizde parsing icin Biopython kutuphanesinden Bio.SeqIO modulunu kullanacagiz. Bir sonraki dersimizde gorusmek uzere!"
   ]
  },
  {
   "cell_type": "code",
   "execution_count": null,
   "id": "inside-private",
   "metadata": {},
   "outputs": [],
   "source": []
  }
 ],
 "metadata": {
  "kernelspec": {
   "display_name": "Python 3",
   "language": "python",
   "name": "python3"
  },
  "language_info": {
   "codemirror_mode": {
    "name": "ipython",
    "version": 3
   },
   "file_extension": ".py",
   "mimetype": "text/x-python",
   "name": "python",
   "nbconvert_exporter": "python",
   "pygments_lexer": "ipython3",
   "version": "3.8.5"
  }
 },
 "nbformat": 4,
 "nbformat_minor": 5
}
