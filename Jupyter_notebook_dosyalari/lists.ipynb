{
 "cells": [
  {
   "cell_type": "markdown",
   "metadata": {},
   "source": [
    "# [Lists](https://docs.python.org/3/library/stdtypes.html#lists)"
   ]
  },
  {
   "cell_type": "code",
   "execution_count": null,
   "metadata": {},
   "outputs": [],
   "source": [
    "my_first_list = []\n",
    "print('first list: {}, type: {}'.format(my_first_list, type(my_first_list)))"
   ]
  },
  {
   "cell_type": "code",
   "execution_count": null,
   "metadata": {},
   "outputs": [],
   "source": [
    "sayi_listem = [1, 2, 6, 7]\n",
    "karisik_listem = [0.2, 5, 'Python', 'ogrenmek', 'yine de eglenceli', ':)']\n",
    "print('lengths: {} ve {}'.format(len(sayi_listem), len(karisik_listem)))"
   ]
  },
  {
   "cell_type": "markdown",
   "metadata": {},
   "source": [
    "## Degerlere nasil erisecegiz? "
   ]
  },
  {
   "cell_type": "code",
   "execution_count": null,
   "metadata": {},
   "outputs": [],
   "source": [
    "my_list = ['Python', 'hala', 'eglenceli']\n",
    "print(my_list[0])\n",
    "print(my_list[2])\n",
    "print(my_list[3])"
   ]
  },
  {
   "cell_type": "code",
   "execution_count": null,
   "metadata": {},
   "outputs": [],
   "source": [
    "SDS_Ekip = [['Serra','Fatma Dilan'], ['Azatt', 'Nazlican'], ['Serife', 'Merve'], ['Busra', 'Melisa'], ['Sevin','Buket'],['Goknil','Sultan']]  # two dimensional\n",
    "print('ilk grup: {}'.format(SDS_Ekip[0]))\n",
    "print('ilk gruptan ikinci kisi: {}'.format(SDS_Ekip[0][1]))"
   ]
  },
  {
   "cell_type": "code",
   "execution_count": null,
   "metadata": {},
   "outputs": [],
   "source": [
    "len(SDS_Ekip)"
   ]
  },
  {
   "cell_type": "markdown",
   "metadata": {},
   "source": [
    "## ODEV 3.1\n",
    "\n",
    "Adiniz listede yoksa ekleyin ve kendi adiniza erisin. Eger bir hata cikarsa bunu arama motorunuza yazip sebebini anlamaya calisin ve cozun. \n",
    "\n",
    "Peki ne gibi hatalar cikti? Odevleri cozerken karsilastiginiz hata tiplerine iki ornek verin.\n"
   ]
  },
  {
   "cell_type": "markdown",
   "metadata": {},
   "source": [
    "## Degerleri guncelleme"
   ]
  },
  {
   "cell_type": "code",
   "execution_count": null,
   "metadata": {},
   "outputs": [],
   "source": [
    "listem = [0, 1, 2, 3, 4, 5]\n",
    "listem[0] = 99\n",
    "print(listem)\n",
    "\n",
    "# ilk degeri listeden silelim\n",
    "del listem[0]\n",
    "print(listem) \n",
    "# su anda listenin orjinalini degistirdik, listeyi degistirmeden degerleri silecegimiz baska cozumler neler?"
   ]
  },
  {
   "cell_type": "markdown",
   "metadata": {},
   "source": [
    "## ODEV 3.2\n",
    "\n",
    "Listenin orjinalini degistirmeden listeden bazi degerleri silelim.\n",
    "\n",
    "Yontemler icin birkac ipucu:\n",
    "\n",
    "#pop()\n",
    "\n",
    "#remove()"
   ]
  },
  {
   "cell_type": "markdown",
   "metadata": {},
   "source": [
    "## Degerler listede var mi yok mu, bakalim"
   ]
  },
  {
   "cell_type": "code",
   "execution_count": null,
   "metadata": {},
   "outputs": [],
   "source": [
    "biyoenformatik_veri_tabanlari = ['NCBI GenBank', 'BOLD', 'ENA', 'Protein Data Bank']\n",
    "if 'BOLD' in biyoenformatik_veri_tabanlari:\n",
    "    print('BOLD listede var!')"
   ]
  },
  {
   "cell_type": "code",
   "execution_count": null,
   "metadata": {},
   "outputs": [],
   "source": [
    "if 8 not in [1, 2, 3, 4, 5]:\n",
    "    print('8 numara listede yok')"
   ]
  },
  {
   "cell_type": "markdown",
   "metadata": {},
   "source": [
    "## List are mutable (yani listeleri degistirebiliriz)"
   ]
  },
  {
   "cell_type": "code",
   "execution_count": null,
   "metadata": {},
   "outputs": [],
   "source": [
    "ana_liste = [1, 2, 3]\n",
    "print('modifiye olmadan once ana liste: ', ana_liste)\n",
    "modifiye_liste = ana_liste\n",
    "modifiye_liste[0] = 128\n",
    "print('ana_liste: {}, modifiye_liste: {}'.format(ana_liste, modifiye_liste))"
   ]
  },
  {
   "cell_type": "markdown",
   "metadata": {},
   "source": [
    "Yine tehlikeli sularda yuzuyoruz, tercihen ana listede degisiklik yapmayalim. Bunun icin cozumler:"
   ]
  },
  {
   "cell_type": "code",
   "execution_count": null,
   "metadata": {},
   "outputs": [],
   "source": [
    "ana_liste = [1, 2, 3]\n",
    "modifiye_liste = list(ana_liste)  # Note list() \n",
    "modifiye_liste[0] = 128\n",
    "print('original: {}, modifiye_liste: {}'.format(ana_liste, modifiye_liste))"
   ]
  },
  {
   "cell_type": "markdown",
   "metadata": {},
   "source": [
    "## ODEV 3.3\n",
    "\n",
    "\n",
    "Alternatif olarak kullanabileceginiz bir diger yontem de copy metodu\n",
    "\n",
    "Yukardaki 'ana_liste' uzerinde copy metodu ile listede degisiklik yapalim ve bunu print edelim."
   ]
  },
  {
   "cell_type": "markdown",
   "metadata": {},
   "source": [
    "## `list.append()`"
   ]
  },
  {
   "cell_type": "code",
   "execution_count": null,
   "metadata": {},
   "outputs": [],
   "source": [
    "my_list = [1]\n",
    "my_list.append('mumdur')\n",
    "print(my_list)"
   ]
  },
  {
   "cell_type": "markdown",
   "metadata": {},
   "source": [
    "## `list.remove()`"
   ]
  },
  {
   "cell_type": "code",
   "execution_count": null,
   "metadata": {},
   "outputs": [],
   "source": [
    "my_list = ['Python', 'bazen', 'biraz', 'eglenceli']\n",
    "my_list.remove('bazen')\n",
    "print(my_list)\n",
    "\n",
    "# Eger bir degerin listede olup olmadigindan emin degilseniz, once kontrol edin:\n",
    "\n",
    "if 'bazen' in my_list:\n",
    "    my_list.remove('bazen')\n",
    "else:\n",
    "    print('bazen kelimesi bu listede yok.')"
   ]
  },
  {
   "cell_type": "markdown",
   "metadata": {},
   "source": [
    "## `list.sort()`"
   ]
  },
  {
   "cell_type": "code",
   "execution_count": null,
   "metadata": {},
   "outputs": [],
   "source": [
    "sayilar = [9, 1, 3, 5, 10]\n",
    "sayilar.sort()\n",
    "print('sayilar: {}'.format(sayilar))\n",
    "\n",
    "sayilar.sort(reverse=True)\n",
    "print('sayilar ters cevrildi: {}'.format(sayilar))\n",
    "\n",
    "kelimeler = ['bu', 'bir', 'kelime', 'listesidir']\n",
    "kelimeler.sort()\n",
    "print('kelimeler: {}'.format(kelimeler))"
   ]
  },
  {
   "cell_type": "markdown",
   "metadata": {},
   "source": [
    "## `sorted(list)`\n",
    "`list.sort()` orjinal listeyi siralar, `sorted(list)` yeni siralanmis bir liste verir ve orjinal listeye dokunmaz"
   ]
  },
  {
   "cell_type": "code",
   "execution_count": null,
   "metadata": {},
   "outputs": [],
   "source": [
    "sayilar = [9, 1, 3, 5, 10]\n",
    "sorted_sayilar = sorted(sayilar)\n",
    "print('sayilar: {}, sorted: {}'.format(sayilar, sorted_sayilar))"
   ]
  },
  {
   "cell_type": "markdown",
   "metadata": {},
   "source": [
    "## `list.extend()`"
   ]
  },
  {
   "cell_type": "code",
   "execution_count": null,
   "metadata": {},
   "outputs": [],
   "source": [
    "first_list = ['mavi', 'ada']\n",
    "second_list = ['yesil','tuna']\n",
    "first_list.extend(second_list)\n",
    "print('first: {}, second: {}'.format(first_list, second_list))"
   ]
  },
  {
   "cell_type": "markdown",
   "metadata": {},
   "source": [
    "Bir diger (daha yavas olan ve Pythonic olmayan) extend etme yontemi toplama islemi:"
   ]
  },
  {
   "cell_type": "code",
   "execution_count": null,
   "metadata": {},
   "outputs": [],
   "source": [
    "first = [1, 2, 3]\n",
    "second = [4, 5]\n",
    "first += second  # same as: first = first + second\n",
    "print('first: {}'.format(first))\n",
    "\n",
    "# If you need a new list\n",
    "summed = first + second\n",
    "print('summed: {}'.format(summed))"
   ]
  },
  {
   "cell_type": "markdown",
   "metadata": {},
   "source": [
    "## `list.reverse()`"
   ]
  },
  {
   "cell_type": "code",
   "execution_count": null,
   "metadata": {},
   "outputs": [],
   "source": [
    "my_list = ['a', 'b', 'SDS']\n",
    "my_list.reverse()\n",
    "print(my_list)"
   ]
  },
  {
   "cell_type": "code",
   "execution_count": null,
   "metadata": {},
   "outputs": [],
   "source": []
  }
 ],
 "metadata": {
  "kernelspec": {
   "display_name": "Python 3",
   "language": "python",
   "name": "python3"
  },
  "language_info": {
   "codemirror_mode": {
    "name": "ipython",
    "version": 3
   },
   "file_extension": ".py",
   "mimetype": "text/x-python",
   "name": "python",
   "nbconvert_exporter": "python",
   "pygments_lexer": "ipython3",
   "version": "3.8.5"
  }
 },
 "nbformat": 4,
 "nbformat_minor": 2
}
