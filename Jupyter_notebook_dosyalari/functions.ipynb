{
 "cells": [
  {
   "cell_type": "markdown",
   "metadata": {},
   "source": [
    "# Fonksiyonlar"
   ]
  },
  {
   "cell_type": "code",
   "execution_count": null,
   "metadata": {},
   "outputs": [],
   "source": [
    "def merhaba_ilk_fonksiyonum():\n",
    "    print('Hello world!')\n",
    "\n",
    "print('type: {}'.format(merhaba_ilk_fonksiyonum))\n",
    "\n",
    "merhaba_ilk_fonksiyonum()  # Fonksiyonu cagiralim"
   ]
  },
  {
   "cell_type": "markdown",
   "metadata": {},
   "source": [
    "### Arguments (Argumanlar)"
   ]
  },
  {
   "cell_type": "code",
   "execution_count": null,
   "metadata": {},
   "outputs": [],
   "source": [
    "def TAlerle_tanisalim(isim1, isim2):\n",
    "    print('Merhaba {} ve {}!'.format(isim1, isim2, isim3))\n",
    "\n",
    "TAlerle_tanisalim('Baris', 'Merve', 'Serra')"
   ]
  },
  {
   "cell_type": "code",
   "execution_count": null,
   "metadata": {},
   "outputs": [],
   "source": [
    "# return degerine sahip fonksiyonlar \n",
    "\n",
    "def strip_and_lowercase(original):\n",
    "    modified = original.strip().lower()\n",
    "    return modified\n",
    "\n",
    "uggly_string = '  MixED CaSe '\n",
    "pretty = strip_and_lowercase(uggly_string)\n",
    "print('pretty: {}'.format(pretty))"
   ]
  },
  {
   "cell_type": "code",
   "execution_count": null,
   "metadata": {},
   "outputs": [],
   "source": [
    "def word_lowercase(word):\n",
    "    modified = word.upper()\n",
    "    return modified\n",
    "\n",
    "karisik = 'AAgcgctgagtcTGC'\n",
    "word_lowercase(karisik)"
   ]
  },
  {
   "cell_type": "code",
   "execution_count": null,
   "metadata": {},
   "outputs": [],
   "source": [
    "#Biyoenformatige giris: Dictionary kullanimina ornek\n",
    "\n",
    "dna = \"AATGATGAACGAC\" \n",
    "dinucleotides = ['AA','AT','AG','AC',\n",
    "                 'TA','TT','TG','TC', \n",
    "                 'GA','GT','GG','GC', \n",
    "                 'CA','CT','CG','CT'] \n",
    "all_counts = {}  #sozluk olusturuldu\n",
    "for dinucleotide in dinucleotides: #sozlukteki her bir eleman icin\n",
    "    count = dna.count(dinucleotide) #o eleman kac tane var, sayalim \n",
    "    print(\"count is \" + str(count) + \" for \" + dinucleotide) \n",
    "    all_counts[dinucleotide] = count #bu elemanlarin hepsi birer key, bunlara karsilik gelen value'lari olusturalim\n",
    "print(all_counts)\n"
   ]
  },
  {
   "cell_type": "code",
   "execution_count": null,
   "metadata": {},
   "outputs": [],
   "source": [
    "def dinucleotide_counting(seq):\n",
    "    seq = seq.upper()\n",
    "    \"\"\"This function gets a DNA sequence and returns the count of each dinucleotide\"\"\"\n",
    "    counting = {k: 0 for k in dinucleotides}  # This is faster than a list\n",
    "    #Scan the sequence, looking for all dinucleotides at once\n",
    "    for i in range(len(seq)-2):\n",
    "        if seq[i:i+2] in counting:\n",
    "            counting[seq[i:i+2]] += 1\n",
    "    return counting"
   ]
  },
  {
   "cell_type": "code",
   "execution_count": null,
   "metadata": {},
   "outputs": [],
   "source": [
    "dinucleotide_counting('AAgcgctgagtcTGC')"
   ]
  },
  {
   "cell_type": "code",
   "execution_count": null,
   "metadata": {},
   "outputs": [],
   "source": [
    "#TGGA\n",
    "b = {k: 0 for k in dinucleotides}\n",
    "b\n",
    "#seq = 'AATGC'"
   ]
  },
  {
   "cell_type": "code",
   "execution_count": null,
   "metadata": {},
   "outputs": [],
   "source": [
    "b[seq[2:4]]"
   ]
  },
  {
   "cell_type": "code",
   "execution_count": null,
   "metadata": {},
   "outputs": [],
   "source": [
    "dinucleotides = ['AA','AT','AG','AC',\n",
    "                 'TA','TT','TG','TC', \n",
    "                 'GA','GT','GG','GC', \n",
    "                 'CA','CT','CG','CT'] \n",
    "dinucleotide_counting(\"AATGATGAACGAC\")"
   ]
  },
  {
   "cell_type": "markdown",
   "metadata": {},
   "source": [
    "### Keyword arguments"
   ]
  },
  {
   "cell_type": "code",
   "execution_count": null,
   "metadata": {},
   "outputs": [],
   "source": [
    "def ilk_algoritmam(first, second, third):\n",
    "    return (first + second)** third \n",
    "\n",
    "print(ilk_algoritmam(2, 3, 4))\n",
    "\n",
    "print(ilk_algoritmam(first=2, second=3, third=4))\n",
    "\n",
    "# keyword arguments kullanarak siralamayi degistirebiliriz\n",
    "print(ilk_algoritmam(third=4, first=2, second=3))\n",
    "\n",
    "# arguments ile keyword arguments'in da yeri degisebilir ama argumanlar ile baslamaliyiz\n",
    "print(ilk_algoritmam(2, third=4, second=3))  "
   ]
  },
  {
   "cell_type": "markdown",
   "metadata": {},
   "source": [
    "### Default arguments (varsayilan argumanlar)"
   ]
  },
  {
   "cell_type": "code",
   "execution_count": null,
   "metadata": {
    "scrolled": true
   },
   "outputs": [],
   "source": [
    "def greet(name, msg=\"gunaydin!\"):\n",
    "    \"\"\"\n",
    "    This function greets to\n",
    "    the person with the\n",
    "    provided message.\n",
    "\n",
    "    If the message is not provided,\n",
    "    it defaults to \"Good\n",
    "    morning!\"\n",
    "    \"\"\"\n",
    "\n",
    "    print(\"Merhaba\", name + ', ' + msg)\n",
    "\n",
    "\n",
    "greet(\"Dilan\")\n",
    "greet(\"Merve\", \"nasilsin?\")"
   ]
  },
  {
   "cell_type": "markdown",
   "metadata": {},
   "source": [
    "**Degistirilebilen objeleri varsayilan arguman olarak kullanmayin!**"
   ]
  },
  {
   "cell_type": "code",
   "execution_count": null,
   "metadata": {},
   "outputs": [],
   "source": [
    "def append_if_multiple_of_five(number, changing_list=[]):\n",
    "    if number % 5 == 0:\n",
    "        changing_list.append(number)\n",
    "    return changing_list\n",
    "\n",
    "print(append_if_multiple_of_five(100))\n",
    "print(append_if_multiple_of_five(105))\n",
    "print(append_if_multiple_of_five(123))\n",
    "print(append_if_multiple_of_five(123, []))\n",
    "print(append_if_multiple_of_five(123))"
   ]
  },
  {
   "cell_type": "markdown",
   "metadata": {},
   "source": [
    "Yukardaki sorunu soyle duzeltelim:"
   ]
  },
  {
   "cell_type": "code",
   "execution_count": null,
   "metadata": {},
   "outputs": [],
   "source": [
    "def append_if_multiple_of_five(number, changing_list=None):\n",
    "    if not changing_list:\n",
    "        changing_list = []\n",
    "    if number % 5 == 0:\n",
    "        changing_list.append(number)\n",
    "    return changing_list\n",
    "\n",
    "print(append_if_multiple_of_five(100))\n",
    "print(append_if_multiple_of_five(105))\n",
    "print(append_if_multiple_of_five(123))\n",
    "print(append_if_multiple_of_five(123, []))\n",
    "print(append_if_multiple_of_five(123))"
   ]
  },
  {
   "cell_type": "markdown",
   "metadata": {},
   "source": [
    "### Docstrings (Fonksiyonlarinizi aciklamak icin kullandiginiz string veri tipli belgeleme dizeleri)\n",
    "Python belgeleme dizeleri (veya belge dizgileri), Python modülleri, işlevleri, sınıfları ve yöntemleri ile belgelerin ilişkilendirilmesi için uygun bir yol sağlar.\n"
   ]
  },
  {
   "cell_type": "code",
   "execution_count": null,
   "metadata": {},
   "outputs": [],
   "source": [
    "filename = 'fastq_runid_687811ddee13bdfed6e08d8f5d403e432f41ebd8_0_0.fastq'"
   ]
  },
  {
   "cell_type": "code",
   "execution_count": null,
   "metadata": {},
   "outputs": [],
   "source": [
    "import bilge_pype as bpy\n",
    "def load_file(filename, run_info=None):\n",
    "    '''\n",
    "    Checks the file type and load the data\n",
    "    '''\n",
    "    file_format = filename.split('.')\n",
    "    # check if it is a fasta file\n",
    "    if ('fasta' in file_format) or ('fa' in file_format):\n",
    "        A = bpy.read_fasta(filename)\n",
    "    # check if it is a fastq file\n",
    "    elif ('fastq' in file_format) or ('fq' in file_format):\n",
    "        A = bpy.read_fastq(filename)\n",
    "    return A\n",
    "\n",
    "load_file(filename)"
   ]
  },
  {
   "cell_type": "code",
   "execution_count": null,
   "metadata": {},
   "outputs": [],
   "source": [
    "def print_sum(val1, val2):\n",
    "    \"\"\"Function which prints the sum of given arguments.\"\"\"\n",
    "    print('sum: {}'.format(val1 + val2))\n",
    "\n",
    "print(help(print_sum))"
   ]
  },
  {
   "cell_type": "markdown",
   "metadata": {},
   "source": [
    "### [`pass`](https://docs.python.org/3/reference/simple_stmts.html#the-pass-statement) statement\n",
    "`pass` deyimi hiçbir şey yapmaz. Python sözdizim kurallarına göre bir ifadenin gerekli olduğu, fakat programın bir şey yapması gerekmediği zaman kullanılabilir: "
   ]
  },
  {
   "cell_type": "code",
   "execution_count": null,
   "metadata": {},
   "outputs": [],
   "source": [
    "def my_function(bla_bla_bla):\n",
    "    pass\n",
    "\n",
    "def my_other_function():\n",
    "    pass"
   ]
  },
  {
   "cell_type": "code",
   "execution_count": null,
   "metadata": {},
   "outputs": [],
   "source": []
  }
 ],
 "metadata": {
  "kernelspec": {
   "display_name": "Python 3",
   "language": "python",
   "name": "python3"
  },
  "language_info": {
   "codemirror_mode": {
    "name": "ipython",
    "version": 3
   },
   "file_extension": ".py",
   "mimetype": "text/x-python",
   "name": "python",
   "nbconvert_exporter": "python",
   "pygments_lexer": "ipython3",
   "version": "3.8.5"
  }
 },
 "nbformat": 4,
 "nbformat_minor": 2
}
