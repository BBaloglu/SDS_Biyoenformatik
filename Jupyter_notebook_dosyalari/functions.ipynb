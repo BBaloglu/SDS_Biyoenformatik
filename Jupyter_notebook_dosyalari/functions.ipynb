{
 "cells": [
  {
   "cell_type": "markdown",
   "metadata": {},
   "source": [
    "# Fonksiyonlar"
   ]
  },
  {
   "cell_type": "code",
   "execution_count": 1,
   "metadata": {},
   "outputs": [
    {
     "name": "stdout",
     "output_type": "stream",
     "text": [
      "type: <function merhaba_ilk_fonksiyonum at 0x7fd0b806c280>\n",
      "Hello world!\n"
     ]
    }
   ],
   "source": [
    "def merhaba_ilk_fonksiyonum():\n",
    "    print('Hello world!')\n",
    "\n",
    "print('type: {}'.format(merhaba_ilk_fonksiyonum))\n",
    "\n",
    "merhaba_ilk_fonksiyonum()  # Fonksiyonu cagiralim"
   ]
  },
  {
   "cell_type": "markdown",
   "metadata": {},
   "source": [
    "### Arguments (Argumanlar)"
   ]
  },
  {
   "cell_type": "code",
   "execution_count": 7,
   "metadata": {},
   "outputs": [
    {
     "ename": "TypeError",
     "evalue": "TAlerle_tanisalim() takes 2 positional arguments but 3 were given",
     "output_type": "error",
     "traceback": [
      "\u001b[0;31m---------------------------------------------------------------------------\u001b[0m",
      "\u001b[0;31mTypeError\u001b[0m                                 Traceback (most recent call last)",
      "\u001b[0;32m<ipython-input-7-d7d4317b1bca>\u001b[0m in \u001b[0;36m<module>\u001b[0;34m\u001b[0m\n\u001b[1;32m      2\u001b[0m     \u001b[0mprint\u001b[0m\u001b[0;34m(\u001b[0m\u001b[0;34m'Merhaba {} ve {}!'\u001b[0m\u001b[0;34m.\u001b[0m\u001b[0mformat\u001b[0m\u001b[0;34m(\u001b[0m\u001b[0misim1\u001b[0m\u001b[0;34m,\u001b[0m \u001b[0misim2\u001b[0m\u001b[0;34m,\u001b[0m \u001b[0misim3\u001b[0m\u001b[0;34m)\u001b[0m\u001b[0;34m)\u001b[0m\u001b[0;34m\u001b[0m\u001b[0;34m\u001b[0m\u001b[0m\n\u001b[1;32m      3\u001b[0m \u001b[0;34m\u001b[0m\u001b[0m\n\u001b[0;32m----> 4\u001b[0;31m \u001b[0mTAlerle_tanisalim\u001b[0m\u001b[0;34m(\u001b[0m\u001b[0;34m'Baris'\u001b[0m\u001b[0;34m,\u001b[0m \u001b[0;34m'Merve'\u001b[0m\u001b[0;34m,\u001b[0m \u001b[0;34m'Serra'\u001b[0m\u001b[0;34m)\u001b[0m\u001b[0;34m\u001b[0m\u001b[0;34m\u001b[0m\u001b[0m\n\u001b[0m",
      "\u001b[0;31mTypeError\u001b[0m: TAlerle_tanisalim() takes 2 positional arguments but 3 were given"
     ]
    }
   ],
   "source": [
    "def TAlerle_tanisalim(isim1, isim2):\n",
    "    print('Merhaba {} ve {}!'.format(isim1, isim2, isim3))\n",
    "\n",
    "TAlerle_tanisalim('Baris', 'Merve', 'Serra')"
   ]
  },
  {
   "cell_type": "code",
   "execution_count": 34,
   "metadata": {},
   "outputs": [
    {
     "name": "stdout",
     "output_type": "stream",
     "text": [
      "pretty: mixed case\n"
     ]
    }
   ],
   "source": [
    "# return degerine sahip fonksiyonlar \n",
    "\n",
    "def strip_and_lowercase(original):\n",
    "    modified = original.strip().lower()\n",
    "    return modified\n",
    "\n",
    "uggly_string = '  MixED CaSe '\n",
    "pretty = strip_and_lowercase(uggly_string)\n",
    "print('pretty: {}'.format(pretty))"
   ]
  },
  {
   "cell_type": "code",
   "execution_count": 36,
   "metadata": {},
   "outputs": [
    {
     "data": {
      "text/plain": [
       "'AAGCGCTGAGTCTGC'"
      ]
     },
     "execution_count": 36,
     "metadata": {},
     "output_type": "execute_result"
    }
   ],
   "source": [
    "def word_lowercase(word):\n",
    "    modified = word.upper()\n",
    "    return modified\n",
    "\n",
    "karisik = 'AAgcgctgagtcTGC'\n",
    "word_lowercase(karisik)"
   ]
  },
  {
   "cell_type": "code",
   "execution_count": 13,
   "metadata": {},
   "outputs": [
    {
     "name": "stdout",
     "output_type": "stream",
     "text": [
      "count is 2 for AA\n",
      "count is 2 for AT\n",
      "count is 0 for AG\n",
      "count is 2 for AC\n",
      "count is 0 for TA\n",
      "count is 0 for TT\n",
      "count is 2 for TG\n",
      "count is 0 for TC\n",
      "count is 3 for GA\n",
      "count is 0 for GT\n",
      "count is 0 for GG\n",
      "count is 0 for GC\n",
      "count is 0 for CA\n",
      "count is 0 for CT\n",
      "count is 1 for CG\n",
      "count is 0 for CT\n",
      "{'AA': 2, 'AT': 2, 'AG': 0, 'AC': 2, 'TA': 0, 'TT': 0, 'TG': 2, 'TC': 0, 'GA': 3, 'GT': 0, 'GG': 0, 'GC': 0, 'CA': 0, 'CT': 0, 'CG': 1}\n"
     ]
    }
   ],
   "source": [
    "#Biyoenformatige giris: Dictionary kullanimina ornek\n",
    "\n",
    "dna = \"AATGATGAACGAC\" \n",
    "dinucleotides = ['AA','AT','AG','AC',\n",
    "                 'TA','TT','TG','TC', \n",
    "                 'GA','GT','GG','GC', \n",
    "                 'CA','CT','CG','CT'] \n",
    "all_counts = {}  #sozluk olusturuldu\n",
    "for dinucleotide in dinucleotides: #sozlukteki her bir eleman icin\n",
    "    count = dna.count(dinucleotide) #o eleman kac tane var, sayalim \n",
    "    print(\"count is \" + str(count) + \" for \" + dinucleotide) \n",
    "    all_counts[dinucleotide] = count #bu elemanlarin hepsi birer key, bunlara karsilik gelen value'lari olusturalim\n",
    "print(all_counts)\n"
   ]
  },
  {
   "cell_type": "code",
   "execution_count": 32,
   "metadata": {},
   "outputs": [],
   "source": [
    "def dinucleotide_counting(seq):\n",
    "    seq = seq.upper()\n",
    "    \"\"\"This function gets a DNA sequence and returns the count of each dinucleotide\"\"\"\n",
    "    counting = {k: 0 for k in dinucleotides}  # This is faster than a list\n",
    "    #Scan the sequence, looking for all dinucleotides at once\n",
    "    for i in range(len(seq)-2):\n",
    "        if seq[i:i+2] in counting:\n",
    "            counting[seq[i:i+2]] += 1\n",
    "    return counting"
   ]
  },
  {
   "cell_type": "code",
   "execution_count": 33,
   "metadata": {},
   "outputs": [
    {
     "data": {
      "text/plain": [
       "{'AA': 1,\n",
       " 'AT': 0,\n",
       " 'AG': 2,\n",
       " 'AC': 0,\n",
       " 'TA': 0,\n",
       " 'TT': 0,\n",
       " 'TG': 2,\n",
       " 'TC': 1,\n",
       " 'GA': 1,\n",
       " 'GT': 1,\n",
       " 'GG': 0,\n",
       " 'GC': 2,\n",
       " 'CA': 0,\n",
       " 'CT': 2,\n",
       " 'CG': 1}"
      ]
     },
     "execution_count": 33,
     "metadata": {},
     "output_type": "execute_result"
    }
   ],
   "source": [
    "dinucleotide_counting('AAgcgctgagtcTGC')"
   ]
  },
  {
   "cell_type": "code",
   "execution_count": 22,
   "metadata": {},
   "outputs": [
    {
     "data": {
      "text/plain": [
       "{'AA': 0,\n",
       " 'AT': 0,\n",
       " 'AG': 0,\n",
       " 'AC': 0,\n",
       " 'TA': 0,\n",
       " 'TT': 0,\n",
       " 'TG': 0,\n",
       " 'TC': 0,\n",
       " 'GA': 0,\n",
       " 'GT': 0,\n",
       " 'GG': 0,\n",
       " 'GC': 0,\n",
       " 'CA': 0,\n",
       " 'CT': 0,\n",
       " 'CG': 0}"
      ]
     },
     "execution_count": 22,
     "metadata": {},
     "output_type": "execute_result"
    }
   ],
   "source": [
    "#TGGA\n",
    "b = {k: 0 for k in dinucleotides}\n",
    "b\n",
    "#seq = 'AATGC'"
   ]
  },
  {
   "cell_type": "code",
   "execution_count": 25,
   "metadata": {},
   "outputs": [
    {
     "data": {
      "text/plain": [
       "0"
      ]
     },
     "execution_count": 25,
     "metadata": {},
     "output_type": "execute_result"
    }
   ],
   "source": [
    "b[seq[2:4]]"
   ]
  },
  {
   "cell_type": "code",
   "execution_count": 11,
   "metadata": {},
   "outputs": [
    {
     "data": {
      "text/plain": [
       "{'AA': 2,\n",
       " 'AT': 2,\n",
       " 'AG': 0,\n",
       " 'AC': 1,\n",
       " 'TA': 0,\n",
       " 'TT': 0,\n",
       " 'TG': 2,\n",
       " 'TC': 0,\n",
       " 'GA': 3,\n",
       " 'GT': 0,\n",
       " 'GG': 0,\n",
       " 'GC': 0,\n",
       " 'CA': 0,\n",
       " 'CT': 0,\n",
       " 'CG': 1}"
      ]
     },
     "execution_count": 11,
     "metadata": {},
     "output_type": "execute_result"
    }
   ],
   "source": [
    "dinucleotides = ['AA','AT','AG','AC',\n",
    "                 'TA','TT','TG','TC', \n",
    "                 'GA','GT','GG','GC', \n",
    "                 'CA','CT','CG','CT'] \n",
    "dinucleotide_counting(\"AATGATGAACGAC\")"
   ]
  },
  {
   "cell_type": "markdown",
   "metadata": {},
   "source": [
    "### Keyword arguments"
   ]
  },
  {
   "cell_type": "code",
   "execution_count": 40,
   "metadata": {},
   "outputs": [
    {
     "name": "stdout",
     "output_type": "stream",
     "text": [
      "625\n",
      "625\n",
      "625\n",
      "625\n"
     ]
    }
   ],
   "source": [
    "def ilk_algoritmam(first, second, third):\n",
    "    return (first + second)** third \n",
    "\n",
    "print(ilk_algoritmam(2, 3, 4))\n",
    "\n",
    "print(ilk_algoritmam(first=2, second=3, third=4))\n",
    "\n",
    "# keyword arguments kullanarak siralamayi degistirebiliriz\n",
    "print(ilk_algoritmam(third=4, first=2, second=3))\n",
    "\n",
    "# arguments ile keyword arguments'in da yeri degisebilir ama argumanlar ile baslamaliyiz\n",
    "print(ilk_algoritmam(2, third=4, second=3))  "
   ]
  },
  {
   "cell_type": "markdown",
   "metadata": {},
   "source": [
    "### Default arguments (varsayilan argumanlar)"
   ]
  },
  {
   "cell_type": "code",
   "execution_count": 46,
   "metadata": {
    "scrolled": true
   },
   "outputs": [
    {
     "name": "stdout",
     "output_type": "stream",
     "text": [
      "Merhaba Dilan, gunaydin!\n",
      "Merhaba Merve, nasilsin?\n"
     ]
    }
   ],
   "source": [
    "def greet(name, msg=\"gunaydin!\"):\n",
    "    \"\"\"\n",
    "    This function greets to\n",
    "    the person with the\n",
    "    provided message.\n",
    "\n",
    "    If the message is not provided,\n",
    "    it defaults to \"Good\n",
    "    morning!\"\n",
    "    \"\"\"\n",
    "\n",
    "    print(\"Merhaba\", name + ', ' + msg)\n",
    "\n",
    "\n",
    "greet(\"Dilan\")\n",
    "greet(\"Merve\", \"nasilsin?\")"
   ]
  },
  {
   "cell_type": "markdown",
   "metadata": {},
   "source": [
    "**Degistirilebilen objeleri varsayilan arguman olarak kullanmayin!**"
   ]
  },
  {
   "cell_type": "code",
   "execution_count": 49,
   "metadata": {},
   "outputs": [
    {
     "name": "stdout",
     "output_type": "stream",
     "text": [
      "[100]\n",
      "[100, 105]\n",
      "[100, 105]\n",
      "[]\n",
      "[100, 105]\n"
     ]
    }
   ],
   "source": [
    "def append_if_multiple_of_five(number, changing_list=[]):\n",
    "    if number % 5 == 0:\n",
    "        changing_list.append(number)\n",
    "    return changing_list\n",
    "\n",
    "print(append_if_multiple_of_five(100))\n",
    "print(append_if_multiple_of_five(105))\n",
    "print(append_if_multiple_of_five(123))\n",
    "print(append_if_multiple_of_five(123, []))\n",
    "print(append_if_multiple_of_five(123))"
   ]
  },
  {
   "cell_type": "markdown",
   "metadata": {},
   "source": [
    "Yukardaki sorunu soyle duzeltelim:"
   ]
  },
  {
   "cell_type": "code",
   "execution_count": 50,
   "metadata": {},
   "outputs": [
    {
     "name": "stdout",
     "output_type": "stream",
     "text": [
      "[100]\n",
      "[105]\n",
      "[]\n",
      "[]\n",
      "[]\n"
     ]
    }
   ],
   "source": [
    "def append_if_multiple_of_five(number, changing_list=None):\n",
    "    if not changing_list:\n",
    "        changing_list = []\n",
    "    if number % 5 == 0:\n",
    "        changing_list.append(number)\n",
    "    return changing_list\n",
    "\n",
    "print(append_if_multiple_of_five(100))\n",
    "print(append_if_multiple_of_five(105))\n",
    "print(append_if_multiple_of_five(123))\n",
    "print(append_if_multiple_of_five(123, []))\n",
    "print(append_if_multiple_of_five(123))"
   ]
  },
  {
   "cell_type": "markdown",
   "metadata": {},
   "source": [
    "### Docstrings (Fonksiyonlarinizi aciklamak icin kullandiginiz string veri tipli belgeleme dizeleri)\n",
    "Python belgeleme dizeleri (veya belge dizgileri), Python modülleri, işlevleri, sınıfları ve yöntemleri ile belgelerin ilişkilendirilmesi için uygun bir yol sağlar.\n"
   ]
  },
  {
   "cell_type": "code",
   "execution_count": 52,
   "metadata": {},
   "outputs": [],
   "source": [
    "filename = 'fastq_runid_687811ddee13bdfed6e08d8f5d403e432f41ebd8_0_0.fastq'"
   ]
  },
  {
   "cell_type": "code",
   "execution_count": 58,
   "metadata": {},
   "outputs": [
    {
     "data": {
      "text/html": [
       "<div>\n",
       "<style scoped>\n",
       "    .dataframe tbody tr th:only-of-type {\n",
       "        vertical-align: middle;\n",
       "    }\n",
       "\n",
       "    .dataframe tbody tr th {\n",
       "        vertical-align: top;\n",
       "    }\n",
       "\n",
       "    .dataframe thead th {\n",
       "        text-align: right;\n",
       "    }\n",
       "</style>\n",
       "<table border=\"1\" class=\"dataframe\">\n",
       "  <thead>\n",
       "    <tr style=\"text-align: right;\">\n",
       "      <th></th>\n",
       "      <th>sequence</th>\n",
       "      <th>quality</th>\n",
       "      <th>id</th>\n",
       "    </tr>\n",
       "  </thead>\n",
       "  <tbody>\n",
       "    <tr>\n",
       "      <th>0</th>\n",
       "      <td>UCAGUAAGAUCGAAAGAUUGGCUAAAGUUGAACCAAUUGAGAAUCG...</td>\n",
       "      <td>%+$-&amp;$*4+$&amp;9=8&gt;&gt;=82(&amp;&amp;/,.2/1;:76318&gt;/=:&lt;8=40+0...</td>\n",
       "      <td>6c73b496-0d9e-4d3d-9b05-ec7d29e8bb90 runid=687...</td>\n",
       "    </tr>\n",
       "    <tr>\n",
       "      <th>1</th>\n",
       "      <td>AGGUGGACUGAUCGAGUCAAGACUCCAUACGUUUUGCCCGUUCAAG...</td>\n",
       "      <td>$'#(&amp;$($%%#0&amp;'--%()-6/4&amp;&amp;..86640&lt;5/.522176/0A8...</td>\n",
       "      <td>5a6ffec3-a807-47ae-b91b-8340b4f4344d runid=687...</td>\n",
       "    </tr>\n",
       "    <tr>\n",
       "      <th>2</th>\n",
       "      <td>UGUCGGUUUGAGAACUGGUCAAUCAAGACUGGUGCUCCAAGCUAGA...</td>\n",
       "      <td>(%)-,*5)0/89C889;:&lt;9:9-67EC&lt;&gt;;=;=:%))+%''$')*5...</td>\n",
       "      <td>da79375e-4420-4fd5-a0f1-195fd1f355fa runid=687...</td>\n",
       "    </tr>\n",
       "    <tr>\n",
       "      <th>3</th>\n",
       "      <td>UCCAGCUAGAUUCGAAAGAUUGGCUAAGUUGAACCAAUUGUUGAGA...</td>\n",
       "      <td>%/163.1&amp;+(4%97=;&gt;&lt;A;5=;&gt;B:F=&lt;&gt;9CEA6:=4&gt;&lt;A&lt;:79=...</td>\n",
       "      <td>2d5c970a-5212-4e21-b074-70d6b64c6430 runid=687...</td>\n",
       "    </tr>\n",
       "    <tr>\n",
       "      <th>4</th>\n",
       "      <td>GAAGAUUGGCUAAGUGAACCAAUUGUGAAGAAAUCGAAGAAGAACU...</td>\n",
       "      <td>(-735:./-93542.92/9@B&gt;891-%%0.;&lt;&amp;&gt;87@KAGJ6&lt;56;...</td>\n",
       "      <td>a6923647-414d-465e-ab68-1edab9b2b32a runid=687...</td>\n",
       "    </tr>\n",
       "    <tr>\n",
       "      <th>...</th>\n",
       "      <td>...</td>\n",
       "      <td>...</td>\n",
       "      <td>...</td>\n",
       "    </tr>\n",
       "    <tr>\n",
       "      <th>3898</th>\n",
       "      <td>GAUUAAAGUUGUCGGUUAAAGAACUGGUCAAUUCCAAGACUGGUGC...</td>\n",
       "      <td>*89::7=&lt;:==:464:.2278&lt;768-):,33$$(6-B=9)3&lt;;B&gt;7...</td>\n",
       "      <td>80698b86-e0df-4d3f-ad79-0dbb2c60d70f runid=687...</td>\n",
       "    </tr>\n",
       "    <tr>\n",
       "      <th>3899</th>\n",
       "      <td>UGCUCCUUAUUGGUGCAUAGACCUUAAAAAAAU</td>\n",
       "      <td>46+5)6))+);6486*&amp;%3308/;05875:&lt;-8</td>\n",
       "      <td>42a1601f-2cdc-4c29-b4ac-0e69e28e09f1 runid=687...</td>\n",
       "    </tr>\n",
       "    <tr>\n",
       "      <th>3900</th>\n",
       "      <td>UCAUAUUUUUCAAAAAU</td>\n",
       "      <td>'('(+,&amp;(''*4644,(</td>\n",
       "      <td>2b332d08-7a63-4666-881c-c3173bceb43c runid=687...</td>\n",
       "    </tr>\n",
       "    <tr>\n",
       "      <th>3901</th>\n",
       "      <td>ACUCAUAUUUCAAAAAAAAUCUUCUCUCAUUUUCAUAUAUUUACAA...</td>\n",
       "      <td>$$'.%(&amp;**''48&lt;&lt;99&amp;%&amp;$&amp;&amp;$()*,,*-&amp;)(%'*))'((#$14...</td>\n",
       "      <td>f8d114e4-8809-4d9e-806e-d96787a87c49 runid=687...</td>\n",
       "    </tr>\n",
       "    <tr>\n",
       "      <th>3902</th>\n",
       "      <td>GUGACAAGGCUGUCUACCGUUCAGUAGAAAUCACCUUUACAGUGAC...</td>\n",
       "      <td>,+5507EB::?87136;&amp;'&amp;&amp;4480*+08'-$&amp;))(&amp;&amp;1632+;12...</td>\n",
       "      <td>3d8cd261-d303-46f4-84dc-441746e7187b runid=687...</td>\n",
       "    </tr>\n",
       "  </tbody>\n",
       "</table>\n",
       "<p>3903 rows × 3 columns</p>\n",
       "</div>"
      ],
      "text/plain": [
       "                                               sequence  \\\n",
       "0     UCAGUAAGAUCGAAAGAUUGGCUAAAGUUGAACCAAUUGAGAAUCG...   \n",
       "1     AGGUGGACUGAUCGAGUCAAGACUCCAUACGUUUUGCCCGUUCAAG...   \n",
       "2     UGUCGGUUUGAGAACUGGUCAAUCAAGACUGGUGCUCCAAGCUAGA...   \n",
       "3     UCCAGCUAGAUUCGAAAGAUUGGCUAAGUUGAACCAAUUGUUGAGA...   \n",
       "4     GAAGAUUGGCUAAGUGAACCAAUUGUGAAGAAAUCGAAGAAGAACU...   \n",
       "...                                                 ...   \n",
       "3898  GAUUAAAGUUGUCGGUUAAAGAACUGGUCAAUUCCAAGACUGGUGC...   \n",
       "3899                  UGCUCCUUAUUGGUGCAUAGACCUUAAAAAAAU   \n",
       "3900                                  UCAUAUUUUUCAAAAAU   \n",
       "3901  ACUCAUAUUUCAAAAAAAAUCUUCUCUCAUUUUCAUAUAUUUACAA...   \n",
       "3902  GUGACAAGGCUGUCUACCGUUCAGUAGAAAUCACCUUUACAGUGAC...   \n",
       "\n",
       "                                                quality  \\\n",
       "0     %+$-&$*4+$&9=8>>=82(&&/,.2/1;:76318>/=:<8=40+0...   \n",
       "1     $'#(&$($%%#0&'--%()-6/4&&..86640<5/.522176/0A8...   \n",
       "2     (%)-,*5)0/89C889;:<9:9-67EC<>;=;=:%))+%''$')*5...   \n",
       "3     %/163.1&+(4%97=;><A;5=;>B:F=<>9CEA6:=4><A<:79=...   \n",
       "4     (-735:./-93542.92/9@B>891-%%0.;<&>87@KAGJ6<56;...   \n",
       "...                                                 ...   \n",
       "3898  *89::7=<:==:464:.2278<768-):,33$$(6-B=9)3<;B>7...   \n",
       "3899                  46+5)6))+);6486*&%3308/;05875:<-8   \n",
       "3900                                  '('(+,&(''*4644,(   \n",
       "3901  $$'.%(&**''48<<99&%&$&&$()*,,*-&)(%'*))'((#$14...   \n",
       "3902  ,+5507EB::?87136;&'&&4480*+08'-$&))(&&1632+;12...   \n",
       "\n",
       "                                                     id  \n",
       "0     6c73b496-0d9e-4d3d-9b05-ec7d29e8bb90 runid=687...  \n",
       "1     5a6ffec3-a807-47ae-b91b-8340b4f4344d runid=687...  \n",
       "2     da79375e-4420-4fd5-a0f1-195fd1f355fa runid=687...  \n",
       "3     2d5c970a-5212-4e21-b074-70d6b64c6430 runid=687...  \n",
       "4     a6923647-414d-465e-ab68-1edab9b2b32a runid=687...  \n",
       "...                                                 ...  \n",
       "3898  80698b86-e0df-4d3f-ad79-0dbb2c60d70f runid=687...  \n",
       "3899  42a1601f-2cdc-4c29-b4ac-0e69e28e09f1 runid=687...  \n",
       "3900  2b332d08-7a63-4666-881c-c3173bceb43c runid=687...  \n",
       "3901  f8d114e4-8809-4d9e-806e-d96787a87c49 runid=687...  \n",
       "3902  3d8cd261-d303-46f4-84dc-441746e7187b runid=687...  \n",
       "\n",
       "[3903 rows x 3 columns]"
      ]
     },
     "execution_count": 58,
     "metadata": {},
     "output_type": "execute_result"
    }
   ],
   "source": [
    "import bilge_pype as bpy\n",
    "def load_file(filename, run_info=None):\n",
    "    '''\n",
    "    Checks the file type and load the data\n",
    "    '''\n",
    "    file_format = filename.split('.')\n",
    "    # check if it is a fasta file\n",
    "    if ('fasta' in file_format) or ('fa' in file_format):\n",
    "        A = bpy.read_fasta(filename)\n",
    "    # check if it is a fastq file\n",
    "    elif ('fastq' in file_format) or ('fq' in file_format):\n",
    "        A = bpy.read_fastq(filename)\n",
    "    return A\n",
    "\n",
    "load_file(filename)"
   ]
  },
  {
   "cell_type": "code",
   "execution_count": null,
   "metadata": {},
   "outputs": [],
   "source": [
    "def print_sum(val1, val2):\n",
    "    \"\"\"Function which prints the sum of given arguments.\"\"\"\n",
    "    print('sum: {}'.format(val1 + val2))\n",
    "\n",
    "print(help(print_sum))"
   ]
  },
  {
   "cell_type": "markdown",
   "metadata": {},
   "source": [
    "### [`pass`](https://docs.python.org/3/reference/simple_stmts.html#the-pass-statement) statement\n",
    "`pass` deyimi hiçbir şey yapmaz. Python sözdizim kurallarına göre bir ifadenin gerekli olduğu, fakat programın bir şey yapması gerekmediği zaman kullanılabilir: "
   ]
  },
  {
   "cell_type": "code",
   "execution_count": 59,
   "metadata": {},
   "outputs": [],
   "source": [
    "def my_function(bla_bla_bla):\n",
    "    pass\n",
    "\n",
    "def my_other_function():\n",
    "    pass"
   ]
  },
  {
   "cell_type": "code",
   "execution_count": null,
   "metadata": {},
   "outputs": [],
   "source": []
  }
 ],
 "metadata": {
  "kernelspec": {
   "display_name": "Python 3",
   "language": "python",
   "name": "python3"
  },
  "language_info": {
   "codemirror_mode": {
    "name": "ipython",
    "version": 3
   },
   "file_extension": ".py",
   "mimetype": "text/x-python",
   "name": "python",
   "nbconvert_exporter": "python",
   "pygments_lexer": "ipython3",
   "version": "3.8.5"
  }
 },
 "nbformat": 4,
 "nbformat_minor": 2
}
